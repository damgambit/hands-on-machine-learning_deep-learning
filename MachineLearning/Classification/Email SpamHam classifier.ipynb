{
 "cells": [
  {
   "cell_type": "markdown",
   "metadata": {},
   "source": [
    "# Email Spam/Ham Classifier"
   ]
  },
  {
   "cell_type": "code",
   "execution_count": 69,
   "metadata": {
    "collapsed": false
   },
   "outputs": [],
   "source": [
    "import os\n",
    "import string\n",
    "import numpy as np\n",
    "import pandas as pd\n",
    "import seaborn as sns\n",
    "import matplotlib.pyplot as plt\n",
    "%matplotlib inline"
   ]
  },
  {
   "cell_type": "markdown",
   "metadata": {},
   "source": [
    "# Get the Data"
   ]
  },
  {
   "cell_type": "code",
   "execution_count": 9,
   "metadata": {
    "collapsed": false
   },
   "outputs": [],
   "source": [
    "def read_files(dire):\n",
    "    target_dir = os.path.join(dire)\n",
    "    #list the files\n",
    "    filelist = os.listdir(target_dir) \n",
    "    return [open(os.path.join(dire+file), encoding='utf-8', errors='ignore').read() for file in filelist]\n",
    "\n",
    "\n",
    "ham_messages = read_files('ham_2/')\n",
    "spam_messages = read_files('spam_2/')"
   ]
  },
  {
   "cell_type": "code",
   "execution_count": 10,
   "metadata": {
    "collapsed": false
   },
   "outputs": [
    {
     "data": {
      "text/plain": [
       "'Return-Path: <exmh-workers-admin@spamassassin.taint.org> Delivered-To: yyyy@localhost.netnoteinc.com Received: from localhost (localhost [127.0.0.1]) \\tby phobos.labs.netnoteinc.com (Postfix) with ESMTP id 7106643C34 \\tfor <jm@localhost>; Wed, 21 Aug 2002 08:33:03 -0400 (EDT) Received: from phobos [127.0.0.1] \\tby localhost with IMAP (fetchmail-5.9.0) \\tfor jm@localhost (single-drop); Wed, 21 Aug 2002 13:33:03 +0100 (IST) Received: from listman.spamassassin.taint.org (listman.spamassassin.taint.org [66.187.233.211]) by     dogma.slashnull.org (8.11.6/8.11.6) with ESMTP id g7LCXvZ24654 for     <jm-exmh@jmason.org>; Wed, 21 Aug 2002 13:33:57 +0100 Received: from listman.spamassassin.taint.org (localhost.localdomain [127.0.0.1]) by     listman.redhat.com (Postfix) with ESMTP id F12A13EA25; Wed, 21 Aug 2002     08:34:00 -0400 (EDT) Delivered-To: exmh-workers@listman.spamassassin.taint.org Received: from int-mx1.corp.spamassassin.taint.org (int-mx1.corp.spamassassin.taint.org     [172.16.52.254]) by listman.redhat.com (Postfix) with ESMTP id 750D33F945     for <exmh-workers@listman.redhat.com>; Wed, 21 Aug 2002 08:30:55 -0400     (EDT) Received: (from mail@localhost) by int-mx1.corp.spamassassin.taint.org (8.11.6/8.11.6)     id g7LCUqx17585 for exmh-workers@listman.redhat.com; Wed, 21 Aug 2002     08:30:52 -0400 Received: from mx1.spamassassin.taint.org (mx1.spamassassin.taint.org [172.16.48.31]) by     int-mx1.corp.redhat.com (8.11.6/8.11.6) with SMTP id g7LCUqY17578 for     <exmh-workers@redhat.com>; Wed, 21 Aug 2002 08:30:52 -0400 Received: from ratree.psu.ac.th ([202.28.97.6]) by mx1.spamassassin.taint.org     (8.11.6/8.11.6) with SMTP id g7LCGNl23207 for <exmh-workers@redhat.com>;     Wed, 21 Aug 2002 08:16:24 -0400 Received: from delta.cs.mu.OZ.AU (delta.coe.psu.ac.th [172.30.0.98]) by     ratree.psu.ac.th (8.11.6/8.11.6) with ESMTP id g7LCUIl27286;     Wed, 21 Aug 2002 19:30:19 +0700 (ICT) Received: from munnari.OZ.AU (localhost [127.0.0.1]) by delta.cs.mu.OZ.AU     (8.11.6/8.11.6) with ESMTP id g7LCU1W09629; Wed, 21 Aug 2002 19:30:01     +0700 (ICT) From: Robert Elz <kre@munnari.OZ.AU> To: Chris Garrigues <cwg-dated-1030314468.7c7c85@DeepEddy.Com> Cc: exmh-workers@spamassassin.taint.org Subject: Re: New Sequences Window In-Reply-To: <1029882468.3116.TMDA@deepeddy.vircio.com> References: <1029882468.3116.TMDA@deepeddy.vircio.com> MIME-Version: 1.0 Content-Type: text/plain; charset=us-ascii Message-Id: <9627.1029933001@munnari.OZ.AU> X-Loop: exmh-workers@spamassassin.taint.org Sender: exmh-workers-admin@spamassassin.taint.org Errors-To: exmh-workers-admin@spamassassin.taint.org X-Beenthere: exmh-workers@spamassassin.taint.org X-Mailman-Version: 2.0.1 Precedence: bulk List-Help: <mailto:exmh-workers-request@spamassassin.taint.org?subject=help> List-Post: <mailto:exmh-workers@spamassassin.taint.org> List-Subscribe: <https://listman.spamassassin.taint.org/mailman/listinfo/exmh-workers>,     <mailto:exmh-workers-request@redhat.com?subject=subscribe> List-Id: Discussion list for EXMH developers <exmh-workers.spamassassin.taint.org> List-Unsubscribe: <https://listman.spamassassin.taint.org/mailman/listinfo/exmh-workers>,     <mailto:exmh-workers-request@redhat.com?subject=unsubscribe> List-Archive: <https://listman.spamassassin.taint.org/mailman/private/exmh-workers/> Date: Wed, 21 Aug 2002 19:30:01 +0700      Date:        Tue, 20 Aug 2002 17:27:47 -0500     From:        Chris Garrigues <cwg-exmh@DeepEddy.Com>     Message-ID:  <1029882468.3116.TMDA@deepeddy.vircio.com>     | I\\'m hoping that all people with no additional sequences will notice are   | purely cosmetic changes.  Well, first, when exmh (the latest one with your changes) starts, I get...  can\\'t read \"flist(totalcount,unseen)\": no such element in array     while executing \"if {$flist(totalcount,$mhProfile(unseen-sequence)) > 0} { \\tFlagInner spool iconspool labelup     } else { \\tFlagInner down icondown labeldown     }\"     (procedure \"Flag_MsgSeen\" line 3)     invoked from within \"Flag_MsgSeen\"     (procedure \"MsgSeen\" line 8)     invoked from within \"MsgSeen $msgid\"     (procedure \"MsgShow\" line 12)     invoked from within \"MsgShow $msgid\"     (procedure \"MsgChange\" line 17)     invoked from within \"MsgChange 4862 show\"     invoked from within \"time [list MsgChange $msgid $show\"     (procedure \"Msg_Change\" line 3)     invoked from within \"Msg_Change $msg(id) $show\"     (procedure \"Msg_Show\" line 7)     invoked from within \"Msg_Show cur\"     (\"eval\" body line 1)     invoked from within \"eval $msgShowProc\"     (procedure \"FolderChange\" line 55)     invoked from within \"FolderChange inbox {Msg_Show cur}\"     invoked from within \"time [list  FolderChange $folder $msgShowProc\"     (procedure \"Folder_Change\" line 3)     invoked from within \"Folder_Change $exmh(folder)\"     (procedure \"Exmh\" line 101)     invoked from within \"Exmh\"     (\"after\" script)  which is probably related to my not having an \"unseen\" sequence anywhere (certainly not in inbox) - I read all of my outstanding mail before I tried this new exmh ...  Second, I\\'ve been used to having a key binding which was to Msg_MarkUnseen which doesn\\'t seem to exist any more, and I\\'m not sure what I should replace that with.   There\\'s obviously a way as the \"Sequences\" menu does this. The \"Mark Unseen\" menu entry in the message \"More\" menu is still wanting that function as well...    | For those who have other sequences defined, the window will widen to   | display the other sequences.  Any chance of having that lengthen instead?   I like all my exmh stuff in nice columns (fits the display better).   That is, I use the detached folder list, one column.   The main exmh window takes up full screen, top to bottom, but less than half the width, etc...  I have space for more sequences, in the \"unseen\" window, as long as they remain once nice narrow window (best would be if the sequences could be ordered by some preference, then ones which didn\\'t fit would just fall off the bottom, and not be shown).  I\\'d also prefer it if that window had no unusual background colouring, just one constant colour - I have been running the unseen window with background black, on a root window that is all black, with no borders or other decorations, but made \"sticky\" - the appearance is just like the folders with unseen messages (and their counts) are written into the root window (because it is sticky, this small display follows me around and do I can see when new mail needs processing).  I also find that I tend to have a bunch of sequences that only ever occur in one folder (some I had forgotten I ever created).  So in addition to the \"sequences to always show\" and \"sequences to never show\", a preference to only show sequences that occur in more than one folder would be useful, and then have the sequences that occor only in the folder I\\'m visiting appear in the list when that folder is current. This is just to keep the list size somewhat manageable while remaining productive (I quite often use a sequence to remember a particular message in a folder - the name is used only there, and only for one message, it gives me a handle on the message which remains as the folder is packed, sorted, etc).  I haven\\'t updated my exmh for some time now, so I\\'m not sure if this next one is new, or just new since 2.5, but the Sequences menu (on the bar with New Flist Search ...) only contains \"unseen\" and \"urgent\". It would be useful if it contained all of the sequences that the folder happens to have defined.   A \"New sequence\" entry would also be useful (to mark the message with a sequence name that didn\\'t previously exist, which can be done now using \"Search\" and the pick interface, but is clumsy that way)  Actually, you once could, now when I try this, entering a sequence name in the pick box, and a single message number, or a range N-N in the list of messages, and no pick attributes at all, I now get ...  syntax error in expression \"int(1+1+(1 hit-1)*(3868-1-2)/(4878-1))\"     while executing \"expr int($minlineno+1+($msgid-$minmsgid)*($maxlineno-$minlineno-2)/($maxmsgid-$minmsgid))\"     (procedure \"Ftoc_FindMsg\" line 46)     invoked from within \"Ftoc_FindMsg $msg\"     (procedure \"Ftoc_FindMsgs\" line 5)     invoked from within \"Ftoc_FindMsgs $msgids\"     (procedure \"Ftoc_PickMsgs\" line 5)     invoked from within \"Ftoc_PickMsgs $pick(ids) $pick(addtosel)\"     (procedure \"PickInner\" line 13)     invoked from within \"PickInner {exec pick +inbox -list} {4852 -sequence mercury}\"     (\"uplevel\" body line 1)     invoked from within \"uplevel #0 $cmd\"     (procedure \"busyCursorInner\" line 8)     invoked from within \"busyCursorInner $cmd $widgets\"     (procedure \"busyCursorHack\" line 32)     invoked from within \"busyCursorHack $args\"     (\"cursor\" arm line 1)     invoked from within \"switch $busy(style) { \\ticon\\t\\t{busyIcon $args} \\tcursorAll\\t{busyCursor $args} \\tcursor\\t\\t{busyCursorHack $args} \\tdefault\\t\\t{eval $args}     }\"     (procedure \"busy\" line 3)     invoked from within \"busy PickInner $cmd $msgs\"     (procedure \"Pick_It\" line 51)     invoked from within \"Pick_It\"     invoked from within \".pick.but.pick invoke\"     (\"uplevel\" body line 1)     invoked from within \"uplevel #0 [list $w invoke]\"     (procedure \"tkButtonUp\" line 7)     invoked from within \"tkButtonUp .pick.but.pick \"     (command bound to event)  It has been ages since I did this last though.   I tried adding a Subject to pick on (easy as I know what\\'s in the message...) which made no difference. Looks as if something is now saying \"1 hit\" when before it didn\\'t, or similar.    | I\\'ve also changed the ftoc colorization as discussed briefly on the list a    | week or so ago.  Any chance of making the current message a little brighter background? Just to make it stand out a fraction more than it does (maybe this is more apparent to me than many, as I use very small fonts everywhere, the background of the ftoc line isn\\'t very wide).  Hope this helps.  kre    _______________________________________________ Exmh-workers mailing list Exmh-workers@redhat.com https://listman.redhat.com/mailman/listinfo/exmh-workers  '"
      ]
     },
     "execution_count": 10,
     "metadata": {},
     "output_type": "execute_result"
    }
   ],
   "source": [
    "ham_messages[0].replace('\\n', ' ')"
   ]
  },
  {
   "cell_type": "code",
   "execution_count": 11,
   "metadata": {
    "collapsed": false
   },
   "outputs": [
    {
     "data": {
      "text/plain": [
       "'From ilug-admin@linux.ie  Tue Aug  6 11:51:02 2002\\nReturn-Path: <ilug-admin@linux.ie>\\nDelivered-To: yyyy@localhost.netnoteinc.com\\nReceived: from localhost (localhost [127.0.0.1])\\n\\tby phobos.labs.netnoteinc.com (Postfix) with ESMTP id 9E1F5441DD\\n\\tfor <jm@localhost>; Tue,  6 Aug 2002 06:48:09 -0400 (EDT)\\nReceived: from phobos [127.0.0.1]\\n\\tby localhost with IMAP (fetchmail-5.9.0)\\n\\tfor jm@localhost (single-drop); Tue, 06 Aug 2002 11:48:09 +0100 (IST)\\nReceived: from lugh.tuatha.org (root@lugh.tuatha.org [194.125.145.45]) by\\n    dogma.slashnull.org (8.11.6/8.11.6) with ESMTP id g72LqWv13294 for\\n    <jm-ilug@jmason.org>; Fri, 2 Aug 2002 22:52:32 +0100\\nReceived: from lugh (root@localhost [127.0.0.1]) by lugh.tuatha.org\\n    (8.9.3/8.9.3) with ESMTP id WAA31224; Fri, 2 Aug 2002 22:50:17 +0100\\nReceived: from bettyjagessar.com (w142.z064000057.nyc-ny.dsl.cnc.net\\n    [64.0.57.142]) by lugh.tuatha.org (8.9.3/8.9.3) with ESMTP id WAA31201 for\\n    <ilug@linux.ie>; Fri, 2 Aug 2002 22:50:11 +0100\\nX-Authentication-Warning: lugh.tuatha.org: Host w142.z064000057.nyc-ny.dsl.cnc.net\\n    [64.0.57.142] claimed to be bettyjagessar.com\\nReceived: from 64.0.57.142 [202.63.165.34] by bettyjagessar.com\\n    (SMTPD32-7.06 EVAL) id A42A7FC01F2; Fri, 02 Aug 2002 02:18:18 -0400\\nMessage-Id: <1028311679.886@0.57.142>\\nDate: Fri, 02 Aug 2002 23:37:59 0530\\nTo: ilug@linux.ie\\nFrom: \"Start Now\" <startnow2002@hotmail.com>\\nMIME-Version: 1.0\\nContent-Type: text/plain; charset=\"US-ASCII\"; format=flowed\\nSubject: [ILUG] STOP THE MLM INSANITY\\nSender: ilug-admin@linux.ie\\nErrors-To: ilug-admin@linux.ie\\nX-Mailman-Version: 1.1\\nPrecedence: bulk\\nList-Id: Irish Linux Users\\' Group <ilug.linux.ie>\\nX-Beenthere: ilug@linux.ie\\n\\nGreetings!\\n\\nYou are receiving this letter because you have expressed an interest in \\nreceiving information about online business opportunities. If this is \\nerroneous then please accept my most sincere apology. This is a one-time \\nmailing, so no removal is necessary.\\n\\nIf you\\'ve been burned, betrayed, and back-stabbed by multi-level marketing, \\nMLM, then please read this letter. It could be the most important one that \\nhas ever landed in your Inbox.\\n\\nMULTI-LEVEL MARKETING IS A HUGE MISTAKE FOR MOST PEOPLE\\n\\nMLM has failed to deliver on its promises for the past 50 years. The pursuit \\nof the \"MLM Dream\" has cost hundreds of thousands of people their friends, \\ntheir fortunes and their sacred honor. The fact is that MLM is fatally \\nflawed, meaning that it CANNOT work for most people.\\n\\nThe companies and the few who earn the big money in MLM are NOT going to \\ntell you the real story. FINALLY, there is someone who has the courage to \\ncut through the hype and lies and tell the TRUTH about MLM.\\n\\nHERE\\'S GOOD NEWS\\n\\nThere IS an alternative to MLM that WORKS, and works BIG! If you haven\\'t yet \\nabandoned your dreams, then you need to see this. Earning the kind of income \\nyou\\'ve dreamed about is easier than you think!\\n\\nWith your permission, I\\'d like to send you a brief letter that will tell you \\nWHY MLM doesn\\'t work for most people and will then introduce you to \\nsomething so new and refreshing that you\\'ll wonder why you haven\\'t heard of \\nthis before.\\n\\nI promise that there will be NO unwanted follow up, NO sales pitch, no one \\nwill call you, and your email address will only be used to send you the \\ninformation. Period.\\n\\nTo receive this free, life-changing information, simply click Reply, type \\n\"Send Info\" in the Subject box and hit Send. I\\'ll get the information to you \\nwithin 24 hours. Just look for the words MLM WALL OF SHAME in your Inbox.\\n\\nCordially,\\n\\nSiddhi\\n\\nP.S. Someone recently sent the letter to me and it has been the most \\neye-opening, financially beneficial information I have ever received. I \\nhonestly believe that you will feel the same way once you\\'ve read it. And \\nit\\'s FREE!\\n\\n\\n------------------------------------------------------------\\nThis email is NEVER sent unsolicited.  THIS IS NOT \"SPAM\". You are receiving \\nthis email because you EXPLICITLY signed yourself up to our list with our \\nonline signup form or through use of our FFA Links Page and E-MailDOM \\nsystems, which have EXPLICIT terms of use which state that through its use \\nyou agree to receive our emailings.  You may also be a member of a Altra \\nComputer Systems list or one of many numerous FREE Marketing Services and as \\nsuch you agreed when you signed up for such list that you would also be \\nreceiving this emailing.\\nDue to the above, this email message cannot be considered unsolicitated, or \\nspam.\\n-----------------------------------------------------------\\n\\n\\n\\n\\n-- \\nIrish Linux Users\\' Group: ilug@linux.ie\\nhttp://www.linux.ie/mailman/listinfo/ilug for (un)subscription information.\\nList maintainer: listmaster@linux.ie\\n\\n\\n'"
      ]
     },
     "execution_count": 11,
     "metadata": {},
     "output_type": "execute_result"
    }
   ],
   "source": [
    "spam_messages[0]"
   ]
  },
  {
   "cell_type": "code",
   "execution_count": 50,
   "metadata": {
    "collapsed": false
   },
   "outputs": [
    {
     "data": {
      "text/plain": [
       "1401"
      ]
     },
     "execution_count": 50,
     "metadata": {},
     "output_type": "execute_result"
    }
   ],
   "source": [
    "hams = np.ones(len(ham_messages))\n",
    "spams = np.zeros(len(ham_messages))\n",
    "len(ham_messages)"
   ]
  },
  {
   "cell_type": "code",
   "execution_count": 51,
   "metadata": {
    "collapsed": false
   },
   "outputs": [
    {
     "data": {
      "text/plain": [
       "2798"
      ]
     },
     "execution_count": 51,
     "metadata": {},
     "output_type": "execute_result"
    }
   ],
   "source": [
    "hams = np.concatenate((hams, np.zeros(len(spam_messages))))\n",
    "spams = np.concatenate((spams, np.ones(len(spam_messages))))\n",
    "len(spam_messages)"
   ]
  },
  {
   "cell_type": "code",
   "execution_count": 52,
   "metadata": {
    "collapsed": false
   },
   "outputs": [],
   "source": [
    "data = {}\n",
    "data['message'] = ham_messages + spam_messages\n",
    "data['ham'] = hams\n",
    "data['spam'] = spams"
   ]
  },
  {
   "cell_type": "code",
   "execution_count": 53,
   "metadata": {
    "collapsed": false
   },
   "outputs": [
    {
     "data": {
      "text/plain": [
       "2798"
      ]
     },
     "execution_count": 53,
     "metadata": {},
     "output_type": "execute_result"
    }
   ],
   "source": [
    "len(data['message'])"
   ]
  },
  {
   "cell_type": "code",
   "execution_count": 106,
   "metadata": {
    "collapsed": false
   },
   "outputs": [],
   "source": [
    "df = pd.DataFrame(data)\n",
    "df['label'] = df['ham'].apply(lambda x: 'ham' if x == 1 else 'spam')"
   ]
  },
  {
   "cell_type": "markdown",
   "metadata": {},
   "source": [
    "# Exploring the data"
   ]
  },
  {
   "cell_type": "code",
   "execution_count": 107,
   "metadata": {
    "collapsed": false
   },
   "outputs": [
    {
     "data": {
      "text/html": [
       "<div>\n",
       "<style>\n",
       "    .dataframe thead tr:only-child th {\n",
       "        text-align: right;\n",
       "    }\n",
       "\n",
       "    .dataframe thead th {\n",
       "        text-align: left;\n",
       "    }\n",
       "\n",
       "    .dataframe tbody tr th {\n",
       "        vertical-align: top;\n",
       "    }\n",
       "</style>\n",
       "<table border=\"1\" class=\"dataframe\">\n",
       "  <thead>\n",
       "    <tr style=\"text-align: right;\">\n",
       "      <th></th>\n",
       "      <th>ham</th>\n",
       "      <th>message</th>\n",
       "      <th>spam</th>\n",
       "      <th>label</th>\n",
       "    </tr>\n",
       "  </thead>\n",
       "  <tbody>\n",
       "    <tr>\n",
       "      <th>0</th>\n",
       "      <td>1.0</td>\n",
       "      <td>Return-Path: &lt;exmh-workers-admin@spamassassin....</td>\n",
       "      <td>0.0</td>\n",
       "      <td>ham</td>\n",
       "    </tr>\n",
       "    <tr>\n",
       "      <th>1</th>\n",
       "      <td>1.0</td>\n",
       "      <td>From exmh-workers-admin@redhat.com  Wed Aug 21...</td>\n",
       "      <td>0.0</td>\n",
       "      <td>ham</td>\n",
       "    </tr>\n",
       "    <tr>\n",
       "      <th>2</th>\n",
       "      <td>1.0</td>\n",
       "      <td>From exmh-workers-admin@redhat.com  Wed Aug 21...</td>\n",
       "      <td>0.0</td>\n",
       "      <td>ham</td>\n",
       "    </tr>\n",
       "    <tr>\n",
       "      <th>3</th>\n",
       "      <td>1.0</td>\n",
       "      <td>From exmh-workers-admin@redhat.com  Wed Aug 21...</td>\n",
       "      <td>0.0</td>\n",
       "      <td>ham</td>\n",
       "    </tr>\n",
       "    <tr>\n",
       "      <th>4</th>\n",
       "      <td>1.0</td>\n",
       "      <td>From exmh-workers-admin@redhat.com  Wed Aug 21...</td>\n",
       "      <td>0.0</td>\n",
       "      <td>ham</td>\n",
       "    </tr>\n",
       "  </tbody>\n",
       "</table>\n",
       "</div>"
      ],
      "text/plain": [
       "   ham                                            message  spam label\n",
       "0  1.0  Return-Path: <exmh-workers-admin@spamassassin....   0.0   ham\n",
       "1  1.0  From exmh-workers-admin@redhat.com  Wed Aug 21...   0.0   ham\n",
       "2  1.0  From exmh-workers-admin@redhat.com  Wed Aug 21...   0.0   ham\n",
       "3  1.0  From exmh-workers-admin@redhat.com  Wed Aug 21...   0.0   ham\n",
       "4  1.0  From exmh-workers-admin@redhat.com  Wed Aug 21...   0.0   ham"
      ]
     },
     "execution_count": 107,
     "metadata": {},
     "output_type": "execute_result"
    }
   ],
   "source": [
    "df.head()"
   ]
  },
  {
   "cell_type": "code",
   "execution_count": 66,
   "metadata": {
    "collapsed": false
   },
   "outputs": [
    {
     "data": {
      "text/html": [
       "<div>\n",
       "<style>\n",
       "    .dataframe thead tr:only-child th {\n",
       "        text-align: right;\n",
       "    }\n",
       "\n",
       "    .dataframe thead th {\n",
       "        text-align: left;\n",
       "    }\n",
       "\n",
       "    .dataframe tbody tr th {\n",
       "        vertical-align: top;\n",
       "    }\n",
       "</style>\n",
       "<table border=\"1\" class=\"dataframe\">\n",
       "  <thead>\n",
       "    <tr>\n",
       "      <th></th>\n",
       "      <th colspan=\"8\" halign=\"left\">spam</th>\n",
       "    </tr>\n",
       "    <tr>\n",
       "      <th></th>\n",
       "      <th>count</th>\n",
       "      <th>mean</th>\n",
       "      <th>std</th>\n",
       "      <th>min</th>\n",
       "      <th>25%</th>\n",
       "      <th>50%</th>\n",
       "      <th>75%</th>\n",
       "      <th>max</th>\n",
       "    </tr>\n",
       "    <tr>\n",
       "      <th>ham</th>\n",
       "      <th></th>\n",
       "      <th></th>\n",
       "      <th></th>\n",
       "      <th></th>\n",
       "      <th></th>\n",
       "      <th></th>\n",
       "      <th></th>\n",
       "      <th></th>\n",
       "    </tr>\n",
       "  </thead>\n",
       "  <tbody>\n",
       "    <tr>\n",
       "      <th>0.0</th>\n",
       "      <td>1397.0</td>\n",
       "      <td>1.0</td>\n",
       "      <td>0.0</td>\n",
       "      <td>1.0</td>\n",
       "      <td>1.0</td>\n",
       "      <td>1.0</td>\n",
       "      <td>1.0</td>\n",
       "      <td>1.0</td>\n",
       "    </tr>\n",
       "    <tr>\n",
       "      <th>1.0</th>\n",
       "      <td>1401.0</td>\n",
       "      <td>0.0</td>\n",
       "      <td>0.0</td>\n",
       "      <td>0.0</td>\n",
       "      <td>0.0</td>\n",
       "      <td>0.0</td>\n",
       "      <td>0.0</td>\n",
       "      <td>0.0</td>\n",
       "    </tr>\n",
       "  </tbody>\n",
       "</table>\n",
       "</div>"
      ],
      "text/plain": [
       "       spam                                   \n",
       "      count mean  std  min  25%  50%  75%  max\n",
       "ham                                           \n",
       "0.0  1397.0  1.0  0.0  1.0  1.0  1.0  1.0  1.0\n",
       "1.0  1401.0  0.0  0.0  0.0  0.0  0.0  0.0  0.0"
      ]
     },
     "execution_count": 66,
     "metadata": {},
     "output_type": "execute_result"
    }
   ],
   "source": [
    "df.groupby('ham').describe()"
   ]
  },
  {
   "cell_type": "code",
   "execution_count": 67,
   "metadata": {
    "collapsed": false
   },
   "outputs": [
    {
     "data": {
      "text/html": [
       "<div>\n",
       "<style>\n",
       "    .dataframe thead tr:only-child th {\n",
       "        text-align: right;\n",
       "    }\n",
       "\n",
       "    .dataframe thead th {\n",
       "        text-align: left;\n",
       "    }\n",
       "\n",
       "    .dataframe tbody tr th {\n",
       "        vertical-align: top;\n",
       "    }\n",
       "</style>\n",
       "<table border=\"1\" class=\"dataframe\">\n",
       "  <thead>\n",
       "    <tr>\n",
       "      <th></th>\n",
       "      <th colspan=\"8\" halign=\"left\">ham</th>\n",
       "    </tr>\n",
       "    <tr>\n",
       "      <th></th>\n",
       "      <th>count</th>\n",
       "      <th>mean</th>\n",
       "      <th>std</th>\n",
       "      <th>min</th>\n",
       "      <th>25%</th>\n",
       "      <th>50%</th>\n",
       "      <th>75%</th>\n",
       "      <th>max</th>\n",
       "    </tr>\n",
       "    <tr>\n",
       "      <th>spam</th>\n",
       "      <th></th>\n",
       "      <th></th>\n",
       "      <th></th>\n",
       "      <th></th>\n",
       "      <th></th>\n",
       "      <th></th>\n",
       "      <th></th>\n",
       "      <th></th>\n",
       "    </tr>\n",
       "  </thead>\n",
       "  <tbody>\n",
       "    <tr>\n",
       "      <th>0.0</th>\n",
       "      <td>1401.0</td>\n",
       "      <td>1.0</td>\n",
       "      <td>0.0</td>\n",
       "      <td>1.0</td>\n",
       "      <td>1.0</td>\n",
       "      <td>1.0</td>\n",
       "      <td>1.0</td>\n",
       "      <td>1.0</td>\n",
       "    </tr>\n",
       "    <tr>\n",
       "      <th>1.0</th>\n",
       "      <td>1397.0</td>\n",
       "      <td>0.0</td>\n",
       "      <td>0.0</td>\n",
       "      <td>0.0</td>\n",
       "      <td>0.0</td>\n",
       "      <td>0.0</td>\n",
       "      <td>0.0</td>\n",
       "      <td>0.0</td>\n",
       "    </tr>\n",
       "  </tbody>\n",
       "</table>\n",
       "</div>"
      ],
      "text/plain": [
       "         ham                                   \n",
       "       count mean  std  min  25%  50%  75%  max\n",
       "spam                                           \n",
       "0.0   1401.0  1.0  0.0  1.0  1.0  1.0  1.0  1.0\n",
       "1.0   1397.0  0.0  0.0  0.0  0.0  0.0  0.0  0.0"
      ]
     },
     "execution_count": 67,
     "metadata": {},
     "output_type": "execute_result"
    }
   ],
   "source": [
    "df.groupby('spam').describe()"
   ]
  },
  {
   "cell_type": "code",
   "execution_count": 110,
   "metadata": {
    "collapsed": false
   },
   "outputs": [
    {
     "name": "stdout",
     "output_type": "stream",
     "text": [
      "<class 'pandas.core.frame.DataFrame'>\n",
      "RangeIndex: 2798 entries, 0 to 2797\n",
      "Data columns (total 4 columns):\n",
      "ham        2798 non-null float64\n",
      "message    2798 non-null object\n",
      "spam       2798 non-null float64\n",
      "label      2798 non-null object\n",
      "dtypes: float64(2), object(2)\n",
      "memory usage: 87.5+ KB\n"
     ]
    }
   ],
   "source": [
    "df.info()"
   ]
  },
  {
   "cell_type": "code",
   "execution_count": 111,
   "metadata": {
    "collapsed": false
   },
   "outputs": [
    {
     "name": "stdout",
     "output_type": "stream",
     "text": [
      "Message Length mean:  5312.39456755\n",
      "Message Length max:  113400\n",
      "Message Length min:  761\n"
     ]
    }
   ],
   "source": [
    "df['length'] = df['message'].apply(len)\n",
    "\n",
    "print(\"Message Length mean: \", df['length'].mean())\n",
    "print(\"Message Length max: \", df['length'].max())\n",
    "print(\"Message Length min: \", df['length'].min())"
   ]
  },
  {
   "cell_type": "markdown",
   "metadata": {},
   "source": [
    "# Data visualization"
   ]
  },
  {
   "cell_type": "code",
   "execution_count": 112,
   "metadata": {
    "collapsed": false
   },
   "outputs": [
    {
     "data": {
      "text/plain": [
       "<matplotlib.axes._subplots.AxesSubplot at 0x112002940>"
      ]
     },
     "execution_count": 112,
     "metadata": {},
     "output_type": "execute_result"
    },
    {
     "data": {
      "image/png": "[encoded data removed]",
      "text/plain": [
       "<matplotlib.figure.Figure at 0x109705ef0>"
      ]
     },
     "metadata": {},
     "output_type": "display_data"
    }
   ],
   "source": [
    "df['length'].hist(bins = 25)"
   ]
  },
  {
   "cell_type": "code",
   "execution_count": 113,
   "metadata": {
    "collapsed": false
   },
   "outputs": [
    {
     "data": {
      "text/plain": [
       "array([<matplotlib.axes._subplots.AxesSubplot object at 0x112271588>,\n",
       "       <matplotlib.axes._subplots.AxesSubplot object at 0x1128c65c0>], dtype=object)"
      ]
     },
     "execution_count": 113,
     "metadata": {},
     "output_type": "execute_result"
    },
    {
     "data": {
      "image/png": "[encoded data removed]",
      "text/plain": [
       "<matplotlib.figure.Figure at 0x10931c550>"
      ]
     },
     "metadata": {},
     "output_type": "display_data"
    }
   ],
   "source": [
    "df.hist(column='length', by='label', bins = 25, figsize=(16,6)) "
   ]
  },
  {
   "cell_type": "markdown",
   "metadata": {},
   "source": [
    "# Text preprocessing"
   ]
  },
  {
   "cell_type": "code",
   "execution_count": 63,
   "metadata": {
    "collapsed": true
   },
   "outputs": [],
   "source": [
    "from nltk.corpus import stopwords\n",
    "\n",
    "def text_process(mess):\n",
    "    \"\"\"\n",
    "    Takes in a string of text, then performs the following:\n",
    "    1. Remove all punctuation\n",
    "    2. Remove all stopwords\n",
    "    3. Returns a list of the cleaned text\n",
    "    \"\"\"\n",
    "    # Check characters to see if they are in punctuation\n",
    "    nopunc = [char for char in mess if char not in string.punctuation]\n",
    "\n",
    "    # Join the characters again to form the string.\n",
    "    nopunc = ''.join(nopunc)\n",
    "    \n",
    "    # Now just remove any stopwords\n",
    "    return [word for word in nopunc.split() if word.lower() not in stopwords.words('english')]"
   ]
  },
  {
   "cell_type": "code",
   "execution_count": 64,
   "metadata": {
    "collapsed": false
   },
   "outputs": [
    {
     "name": "stdout",
     "output_type": "stream",
     "text": [
      "143098\n"
     ]
    }
   ],
   "source": [
    "from sklearn.feature_extraction.text import CountVectorizer\n",
    "\n",
    "# Might take awhile...\n",
    "bow_transformer = CountVectorizer(analyzer=text_process).fit(df['message'])\n",
    "\n",
    "# Print total number of vocab words\n",
    "print(len(bow_transformer.vocabulary_))"
   ]
  },
  {
   "cell_type": "code",
   "execution_count": 93,
   "metadata": {
    "collapsed": false
   },
   "outputs": [
    {
     "name": "stdout",
     "output_type": "stream",
     "text": [
      "From exmh-workers-admin@redhat.com  Wed Aug 21 16:18:52 2002\n",
      "Return-Path: <exmh-workers-admin@spamassassin.taint.org>\n",
      "Delivered-To: yyyy@localhost.netnoteinc.com\n",
      "Received: from localhost (localhost [127.0.0.1])\n",
      "\tby phobos.labs.netnoteinc.com (Postfix) with ESMTP id 7725443C36\n",
      "\tfor <jm@localhost>; Wed, 21 Aug 2002 11:18:37 -0400 (EDT)\n",
      "Received: from phobos [127.0.0.1]\n",
      "\tby localhost with IMAP (fetchmail-5.9.0)\n",
      "\tfor jm@localhost (single-drop); Wed, 21 Aug 2002 16:18:37 +0100 (IST)\n",
      "Received: from listman.spamassassin.taint.org (listman.spamassassin.taint.org [66.187.233.211]) by\n",
      "    dogma.slashnull.org (8.11.6/8.11.6) with ESMTP id g7LFK4Z30918 for\n",
      "    <jm-exmh@jmason.org>; Wed, 21 Aug 2002 16:20:04 +0100\n",
      "Received: from listman.spamassassin.taint.org (localhost.localdomain [127.0.0.1]) by\n",
      "    listman.redhat.com (Postfix) with ESMTP id E0F013F29A; Wed, 21 Aug 2002\n",
      "    11:20:12 -0400 (EDT)\n",
      "Delivered-To: exmh-workers@listman.spamassassin.taint.org\n",
      "Received: from int-mx1.corp.spamassassin.taint.org (int-mx1.corp.spamassassin.taint.org\n",
      "    [172.16.52.254]) by listman.redhat.com (Postfix) with ESMTP id 194303F5BC\n",
      "    for <exmh-workers@listman.redhat.com>; Wed, 21 Aug 2002 11:17:52 -0400\n",
      "    (EDT)\n",
      "Received: (from mail@localhost) by int-mx1.corp.spamassassin.taint.org (8.11.6/8.11.6)\n",
      "    id g7LFHnr23317 for exmh-workers@listman.redhat.com; Wed, 21 Aug 2002\n",
      "    11:17:49 -0400\n",
      "Received: from mx1.spamassassin.taint.org (mx1.spamassassin.taint.org [172.16.48.31]) by\n",
      "    int-mx1.corp.redhat.com (8.11.6/8.11.6) with SMTP id g7LFHnY23313 for\n",
      "    <exmh-workers@redhat.com>; Wed, 21 Aug 2002 11:17:49 -0400\n",
      "Received: from austin-jump.vircio.com\n",
      "    (IDENT:6DmfTyPY+Nt8iKpB7G5XkbCz4RFR4kgz@jump-austin.vircio.com\n",
      "    [192.12.3.99]) by mx1.redhat.com (8.11.6/8.11.6) with SMTP id g7LF3Ql24555\n",
      "    for <exmh-workers@redhat.com>; Wed, 21 Aug 2002 11:03:26 -0400\n",
      "Received: (qmail 27481 invoked by uid 104); 21 Aug 2002 15:17:48 -0000\n",
      "Received: from cwg-exmh@DeepEddy.Com by localhost.localdomain with\n",
      "    qmail-scanner-0.90 (uvscan: v4.1.60/v4218. . Clean. Processed in 0.419006\n",
      "    secs); 21/08/2002 10:17:47\n",
      "Received: from deepeddy.vircio.com ([10.1.2.1]) (envelope-sender\n",
      "    <cwg-exmh@DeepEddy.Com>) by austin-jump.vircio.com (qmail-ldap-1.03) with\n",
      "    SMTP for <exmh-workers@redhat.com>; 21 Aug 2002 15:17:47 -0000\n",
      "Received: (qmail 26932 invoked from network); 21 Aug 2002 15:17:46 -0000\n",
      "Received: from localhost (HELO deepeddy.vircio.com) ([127.0.0.1])\n",
      "    (envelope-sender <cwg-exmh@DeepEddy.Com>) by localhost (qmail-ldap-1.03)\n",
      "    with SMTP for <exmh-workers@redhat.com>; 21 Aug 2002 15:17:46 -0000\n",
      "X-Mailer: exmh version 2.5 07/13/2001 with nmh-1.0.4\n",
      "To: Robert Elz <kre@munnari.OZ.AU>\n",
      "Cc: exmh-workers@spamassassin.taint.org\n",
      "Subject: Re: New Sequences Window\n",
      "In-Reply-To: <9627.1029933001@munnari.OZ.AU>\n",
      "References: <1029882468.3116.TMDA@deepeddy.vircio.com>\n",
      "    <9627.1029933001@munnari.OZ.AU>\n",
      "X-Url: http://www.DeepEddy.Com/~cwg\n",
      "X-Image-Url: http://www.DeepEddy.Com/~cwg/chris.gif\n",
      "MIME-Version: 1.0\n",
      "Content-Type: multipart/signed;\n",
      "    boundary=\"==_Exmh_-195849857P\";\n",
      "    micalg=pgp-sha1;\n",
      "    protocol=\"application/pgp-signature\"\n",
      "Content-Transfer-Encoding: 7bit\n",
      "Message-Id: <1029943066.26919.TMDA@deepeddy.vircio.com>\n",
      "From: Chris Garrigues <cwg-exmh@DeepEddy.Com>\n",
      "X-Delivery-Agent: TMDA/0.57\n",
      "Reply-To: Chris Garrigues <cwg-dated-1030375066.09929a@DeepEddy.Com>\n",
      "X-Loop: exmh-workers@spamassassin.taint.org\n",
      "Sender: exmh-workers-admin@spamassassin.taint.org\n",
      "Errors-To: exmh-workers-admin@spamassassin.taint.org\n",
      "X-Beenthere: exmh-workers@spamassassin.taint.org\n",
      "X-Mailman-Version: 2.0.1\n",
      "Precedence: bulk\n",
      "List-Help: <mailto:exmh-workers-request@spamassassin.taint.org?subject=help>\n",
      "List-Post: <mailto:exmh-workers@spamassassin.taint.org>\n",
      "List-Subscribe: <https://listman.spamassassin.taint.org/mailman/listinfo/exmh-workers>,\n",
      "    <mailto:exmh-workers-request@redhat.com?subject=subscribe>\n",
      "List-Id: Discussion list for EXMH developers <exmh-workers.spamassassin.taint.org>\n",
      "List-Unsubscribe: <https://listman.spamassassin.taint.org/mailman/listinfo/exmh-workers>,\n",
      "    <mailto:exmh-workers-request@redhat.com?subject=unsubscribe>\n",
      "List-Archive: <https://listman.spamassassin.taint.org/mailman/private/exmh-workers/>\n",
      "Date: Wed, 21 Aug 2002 10:17:45 -0500\n",
      "\n",
      "--==_Exmh_-195849857P\n",
      "Content-Type: text/plain; charset=us-ascii\n",
      "\n",
      "Ouch...I'll get right on it.\n",
      "\n",
      "> From:  Robert Elz <kre@munnari.OZ.AU>\n",
      "> Date:  Wed, 21 Aug 2002 19:30:01 +0700\n",
      ">\n",
      ">     Date:        Tue, 20 Aug 2002 17:27:47 -0500\n",
      ">     From:        Chris Garrigues <cwg-exmh@DeepEddy.Com>\n",
      ">     Message-ID:  <1029882468.3116.TMDA@deepeddy.vircio.com>\n",
      "> \n",
      "> \n",
      ">   | I'm hoping that all people with no additional sequences will notice are\n",
      ">   | purely cosmetic changes.\n",
      "> \n",
      "> Well, first, when exmh (the latest one with your changes) starts, I get...\n",
      "> \n",
      "> can't read \"flist(totalcount,unseen)\": no such element in array\n",
      ">     while executing\n",
      "> \"if {$flist(totalcount,$mhProfile(unseen-sequence)) > 0} {\n",
      "> \tFlagInner spool iconspool labelup\n",
      ">     } else {\n",
      "> \tFlagInner down icondown labeldown\n",
      ">     }\"\n",
      ">     (procedure \"Flag_MsgSeen\" line 3)\n",
      ">     invoked from within\n",
      "> \"Flag_MsgSeen\"\n",
      ">     (procedure \"MsgSeen\" line 8)\n",
      ">     invoked from within\n",
      "> \"MsgSeen $msgid\"\n",
      ">     (procedure \"MsgShow\" line 12)\n",
      ">     invoked from within\n",
      "> \"MsgShow $msgid\"\n",
      ">     (procedure \"MsgChange\" line 17)\n",
      ">     invoked from within\n",
      "> \"MsgChange 4862 show\"\n",
      ">     invoked from within\n",
      "> \"time [list MsgChange $msgid $show\"\n",
      ">     (procedure \"Msg_Change\" line 3)\n",
      ">     invoked from within\n",
      "> \"Msg_Change $msg(id) $show\"\n",
      ">     (procedure \"Msg_Show\" line 7)\n",
      ">     invoked from within\n",
      "> \"Msg_Show cur\"\n",
      ">     (\"eval\" body line 1)\n",
      ">     invoked from within\n",
      "> \"eval $msgShowProc\"\n",
      ">     (procedure \"FolderChange\" line 55)\n",
      ">     invoked from within\n",
      "> \"FolderChange inbox {Msg_Show cur}\"\n",
      ">     invoked from within\n",
      "> \"time [list  FolderChange $folder $msgShowProc\"\n",
      ">     (procedure \"Folder_Change\" line 3)\n",
      ">     invoked from within\n",
      "> \"Folder_Change $exmh(folder)\"\n",
      ">     (procedure \"Exmh\" line 101)\n",
      ">     invoked from within\n",
      "> \"Exmh\"\n",
      ">     (\"after\" script)\n",
      "> \n",
      "> which is probably related to my not having an \"unseen\" sequence anywhere\n",
      "> (certainly not in inbox) - I read all of my outstanding mail before I\n",
      "> tried this new exmh ...\n",
      "> \n",
      "> Second, I've been used to having a key binding which was to Msg_MarkUnseen\n",
      "> which doesn't seem to exist any more, and I'm not sure what I should replac\n",
      "> e\n",
      "> that with.   There's obviously a way as the \"Sequences\" menu does this.\n",
      "> The \"Mark Unseen\" menu entry in the message \"More\" menu is still wanting\n",
      "> that function as well...\n",
      "> \n",
      ">   | For those who have other sequences defined, the window will widen to\n",
      ">   | display the other sequences.\n",
      "> \n",
      "> Any chance of having that lengthen instead?   I like all my exmh stuff\n",
      "> in nice columns (fits the display better).   That is, I use the detached\n",
      "> folder list, one column.   The main exmh window takes up full screen,\n",
      "> top to bottom, but less than half the width, etc...\n",
      "> \n",
      "> I have space for more sequences, in the \"unseen\" window, as long as they\n",
      "> remain once nice narrow window (best would be if the sequences could be\n",
      "> ordered by some preference, then ones which didn't fit would just fall\n",
      "> off the bottom, and not be shown).\n",
      "> \n",
      "> I'd also prefer it if that window had no unusual background colouring,\n",
      "> just one constant colour - I have been running the unseen window with\n",
      "> background black, on a root window that is all black, with no borders or\n",
      "> other decorations, but made \"sticky\" - the appearance is just like the\n",
      "> folders with unseen messages (and their counts) are written into the\n",
      "> root window (because it is sticky, this small display follows me around\n",
      "> and do I can see when new mail needs processing).\n",
      "> \n",
      "> I also find that I tend to have a bunch of sequences that only ever occur\n",
      "> in one folder (some I had forgotten I ever created).  So in addition to\n",
      "> the \"sequences to always show\" and \"sequences to never show\", a\n",
      "> preference to only show sequences that occur in more than one folder\n",
      "> would be useful, and then have the sequences that occor only in the\n",
      "> folder I'm visiting appear in the list when that folder is current.\n",
      "> This is just to keep the list size somewhat manageable while remaining\n",
      "> productive (I quite often use a sequence to remember a particular message\n",
      "> in a folder - the name is used only there, and only for one message,\n",
      "> it gives me a handle on the message which remains as the folder is\n",
      "> packed, sorted, etc).\n",
      "> \n",
      "> I haven't updated my exmh for some time now, so I'm not sure if this\n",
      "> next one is new, or just new since 2.5, but the Sequences menu (on the\n",
      "> bar with New Flist Search ...) only contains \"unseen\" and \"urgent\".\n",
      "> It would be useful if it contained all of the sequences that the folder\n",
      "> happens to have defined.   A \"New sequence\" entry would also be useful\n",
      "> (to mark the message with a sequence name that didn't previously exist,\n",
      "> which can be done now using \"Search\" and the pick interface, but is\n",
      "> clumsy that way)\n",
      "> \n",
      "> Actually, you once could, now when I try this, entering a sequence name\n",
      "> in the pick box, and a single message number, or a range N-N in the\n",
      "> list of messages, and no pick attributes at all, I now get ...\n",
      "> \n",
      "> syntax error in expression \"int(1+1+(1 hit-1)*(3868-1-2)/(4878-1))\"\n",
      ">     while executing\n",
      "> \"expr int($minlineno+1+($msgid-$minmsgid)*($maxlineno-$minlineno-2)/($maxms\n",
      "> gid-$minmsgid))\"\n",
      ">     (procedure \"Ftoc_FindMsg\" line 46)\n",
      ">     invoked from within\n",
      "> \"Ftoc_FindMsg $msg\"\n",
      ">     (procedure \"Ftoc_FindMsgs\" line 5)\n",
      ">     invoked from within\n",
      "> \"Ftoc_FindMsgs $msgids\"\n",
      ">     (procedure \"Ftoc_PickMsgs\" line 5)\n",
      ">     invoked from within\n",
      "> \"Ftoc_PickMsgs $pick(ids) $pick(addtosel)\"\n",
      ">     (procedure \"PickInner\" line 13)\n",
      ">     invoked from within\n",
      "> \"PickInner {exec pick +inbox -list} {4852 -sequence mercury}\"\n",
      ">     (\"uplevel\" body line 1)\n",
      ">     invoked from within\n",
      "> \"uplevel #0 $cmd\"\n",
      ">     (procedure \"busyCursorInner\" line 8)\n",
      ">     invoked from within\n",
      "> \"busyCursorInner $cmd $widgets\"\n",
      ">     (procedure \"busyCursorHack\" line 32)\n",
      ">     invoked from within\n",
      "> \"busyCursorHack $args\"\n",
      ">     (\"cursor\" arm line 1)\n",
      ">     invoked from within\n",
      "> \"switch $busy(style) {\n",
      "> \ticon\t\t{busyIcon $args}\n",
      "> \tcursorAll\t{busyCursor $args}\n",
      "> \tcursor\t\t{busyCursorHack $args}\n",
      "> \tdefault\t\t{eval $args}\n",
      ">     }\"\n",
      ">     (procedure \"busy\" line 3)\n",
      ">     invoked from within\n",
      "> \"busy PickInner $cmd $msgs\"\n",
      ">     (procedure \"Pick_It\" line 51)\n",
      ">     invoked from within\n",
      "> \"Pick_It\"\n",
      ">     invoked from within\n",
      "> \".pick.but.pick invoke\"\n",
      ">     (\"uplevel\" body line 1)\n",
      ">     invoked from within\n",
      "> \"uplevel #0 [list $w invoke]\"\n",
      ">     (procedure \"tkButtonUp\" line 7)\n",
      ">     invoked from within\n",
      "> \"tkButtonUp .pick.but.pick\n",
      "> \"\n",
      ">     (command bound to event)\n",
      "> \n",
      "> It has been ages since I did this last though.   I tried adding a Subject\n",
      "> to pick on (easy as I know what's in the message...) which made no differen\n",
      "> ce.\n",
      "> Looks as if something is now saying \"1 hit\" when before it didn't, or\n",
      "> similar.\n",
      "> \n",
      ">   | I've also changed the ftoc colorization as discussed briefly on the lis\n",
      "> t a \n",
      ">   | week or so ago.\n",
      "> \n",
      "> Any chance of making the current message a little brighter background?\n",
      "> Just to make it stand out a fraction more than it does (maybe this is\n",
      "> more apparent to me than many, as I use very small fonts everywhere,\n",
      "> the background of the ftoc line isn't very wide).\n",
      "> \n",
      "> Hope this helps.\n",
      "> \n",
      "> kre\n",
      "> \n",
      "> \n",
      "> \n",
      "> _______________________________________________\n",
      "> Exmh-workers mailing list\n",
      "> Exmh-workers@redhat.com\n",
      "> https://listman.redhat.com/mailman/listinfo/exmh-workers\n",
      "\n",
      "-- \n",
      "Chris Garrigues                 http://www.DeepEddy.Com/~cwg/\n",
      "virCIO                          http://www.virCIO.Com\n",
      "716 Congress, Suite 200\n",
      "Austin, TX  78701\t\t+1 512 374 0500\n",
      "\n",
      "  World War III:  The Wrong-Doers Vs. the Evil-Doers.\n",
      "\n",
      "\n",
      "\n",
      "\n",
      "--==_Exmh_-195849857P\n",
      "Content-Type: application/pgp-signature\n",
      "\n",
      "-----BEGIN PGP SIGNATURE-----\n",
      "Version: GnuPG v1.0.6 (GNU/Linux)\n",
      "Comment: Exmh version 2.2_20000822 06/23/2000\n",
      "\n",
      "iD8DBQE9Y68ZK9b4h5R0IUIRAniQAJ0Xp6L4Dh32pMeWnpt5C8+lbBuELQCdH1aV\n",
      "heczndJHLLRNAg3S6FTpDw8=\n",
      "=coew\n",
      "-----END PGP SIGNATURE-----\n",
      "\n",
      "--==_Exmh_-195849857P--\n",
      "\n",
      "\n",
      "\n",
      "_______________________________________________\n",
      "Exmh-workers mailing list\n",
      "Exmh-workers@redhat.com\n",
      "https://listman.redhat.com/mailman/listinfo/exmh-workers\n",
      "\n",
      "\n"
     ]
    }
   ],
   "source": [
    "message4 = df['message'][3]\n",
    "print(message4)"
   ]
  },
  {
   "cell_type": "code",
   "execution_count": 94,
   "metadata": {
    "collapsed": false
   },
   "outputs": [
    {
     "name": "stdout",
     "output_type": "stream",
     "text": [
      "  (0, 2)\t3\n",
      "  (0, 5)\t4\n",
      "  (0, 3219)\t2\n",
      "  (0, 5728)\t6\n",
      "  (0, 5862)\t1\n",
      "  (0, 6185)\t3\n",
      "  (0, 7264)\t1\n",
      "  (0, 7699)\t1\n",
      "  (0, 7813)\t1\n",
      "  (0, 9893)\t6\n",
      "  (0, 9894)\t1\n",
      "  (0, 10185)\t1\n",
      "  (0, 10229)\t1\n",
      "  (0, 10349)\t1\n",
      "  (0, 10350)\t1\n",
      "  (0, 10768)\t2\n",
      "  (0, 10773)\t1\n",
      "  (0, 10994)\t1\n",
      "  (0, 11794)\t1\n",
      "  (0, 12197)\t2\n",
      "  (0, 12199)\t1\n",
      "  (0, 12220)\t1\n",
      "  (0, 12256)\t1\n",
      "  (0, 13228)\t1\n",
      "  (0, 14365)\t4\n",
      "  :\t:\n",
      "  (0, 137583)\t3\n",
      "  (0, 137598)\t2\n",
      "  (0, 137603)\t3\n",
      "  (0, 137691)\t1\n",
      "  (0, 137808)\t1\n",
      "  (0, 137831)\t1\n",
      "  (0, 137874)\t1\n",
      "  (0, 138804)\t2\n",
      "  (0, 138948)\t1\n",
      "  (0, 138996)\t1\n",
      "  (0, 139217)\t1\n",
      "  (0, 139409)\t1\n",
      "  (0, 139507)\t2\n",
      "  (0, 139912)\t1\n",
      "  (0, 139977)\t1\n",
      "  (0, 140048)\t1\n",
      "  (0, 140159)\t1\n",
      "  (0, 140163)\t1\n",
      "  (0, 140172)\t1\n",
      "  (0, 140176)\t1\n",
      "  (0, 141526)\t8\n",
      "  (0, 141626)\t25\n",
      "  (0, 141821)\t5\n",
      "  (0, 141866)\t1\n",
      "  (0, 142741)\t1\n",
      "(1, 143098)\n"
     ]
    }
   ],
   "source": [
    "bow4 = bow_transformer.transform([message4])\n",
    "print(bow4)\n",
    "print(bow4.shape)"
   ]
  },
  {
   "cell_type": "code",
   "execution_count": 95,
   "metadata": {
    "collapsed": false
   },
   "outputs": [
    {
     "name": "stdout",
     "output_type": "stream",
     "text": [
      "012931073233e92a1fb8808e384cbc0d60e58\n",
      "09ba\n"
     ]
    }
   ],
   "source": [
    "print(bow_transformer.get_feature_names()[4073])\n",
    "print(bow_transformer.get_feature_names()[9570])"
   ]
  },
  {
   "cell_type": "code",
   "execution_count": 96,
   "metadata": {
    "collapsed": true
   },
   "outputs": [],
   "source": [
    "messages_bow = bow_transformer.transform(df['message'])"
   ]
  },
  {
   "cell_type": "code",
   "execution_count": 97,
   "metadata": {
    "collapsed": false
   },
   "outputs": [
    {
     "name": "stdout",
     "output_type": "stream",
     "text": [
      "Shape of Sparse Matrix:  (2798, 143098)\n",
      "Amount of Non-Zero occurences:  655237\n"
     ]
    }
   ],
   "source": [
    "print('Shape of Sparse Matrix: ', messages_bow.shape)\n",
    "print('Amount of Non-Zero occurences: ', messages_bow.nnz)"
   ]
  },
  {
   "cell_type": "code",
   "execution_count": 98,
   "metadata": {
    "collapsed": false
   },
   "outputs": [
    {
     "name": "stdout",
     "output_type": "stream",
     "text": [
      "sparsity: 0\n"
     ]
    }
   ],
   "source": [
    "sparsity = (100.0 * messages_bow.nnz / (messages_bow.shape[0] * messages_bow.shape[1]))\n",
    "print('sparsity: {}'.format(round(sparsity)))"
   ]
  },
  {
   "cell_type": "markdown",
   "metadata": {},
   "source": [
    "# TF-IDF"
   ]
  },
  {
   "cell_type": "code",
   "execution_count": 99,
   "metadata": {
    "collapsed": false
   },
   "outputs": [
    {
     "name": "stdout",
     "output_type": "stream",
     "text": [
      "  (0, 142741)\t0.0048374462886\n",
      "  (0, 141866)\t0.0182619904687\n",
      "  (0, 141821)\t0.0420957473738\n",
      "  (0, 141626)\t0.288108577161\n",
      "  (0, 141526)\t0.144651896134\n",
      "  (0, 140176)\t0.0197461834754\n",
      "  (0, 140172)\t0.0244994732035\n",
      "  (0, 140163)\t0.0239709253975\n",
      "  (0, 140159)\t0.0186542776786\n",
      "  (0, 140048)\t0.0172295692277\n",
      "  (0, 139977)\t0.0105968951972\n",
      "  (0, 139912)\t0.0130537489529\n",
      "  (0, 139507)\t0.0190642461443\n",
      "  (0, 139409)\t0.0192176356694\n",
      "  (0, 139217)\t0.0167206706088\n",
      "  (0, 138996)\t0.0203713228451\n",
      "  (0, 138948)\t0.0192176356694\n",
      "  (0, 138804)\t0.022240983409\n",
      "  (0, 137874)\t0.0221228283395\n",
      "  (0, 137831)\t0.0187597867344\n",
      "  (0, 137808)\t0.0190973154729\n",
      "  (0, 137691)\t0.00943896361365\n",
      "  (0, 137603)\t0.0476560368139\n",
      "  (0, 137598)\t0.0223339685288\n",
      "  (0, 137583)\t0.0263184921911\n",
      "  :\t:\n",
      "  (0, 14365)\t0.0175516829855\n",
      "  (0, 13228)\t0.0113348598639\n",
      "  (0, 12256)\t0.0268761180676\n",
      "  (0, 12220)\t0.0282663661906\n",
      "  (0, 12199)\t0.0268761180676\n",
      "  (0, 12197)\t0.0565327323811\n",
      "  (0, 11794)\t0.0251246125732\n",
      "  (0, 10994)\t0.0186542776786\n",
      "  (0, 10773)\t0.0251246125732\n",
      "  (0, 10768)\t0.0422728631968\n",
      "  (0, 10350)\t0.0268761180676\n",
      "  (0, 10349)\t0.0244994732035\n",
      "  (0, 10229)\t0.0192176356694\n",
      "  (0, 10185)\t0.0215942805335\n",
      "  (0, 9894)\t0.00389942154772\n",
      "  (0, 9893)\t0.0440524404999\n",
      "  (0, 7813)\t0.0172988397405\n",
      "  (0, 7699)\t0.0068967119751\n",
      "  (0, 7264)\t0.0189810747221\n",
      "  (0, 6185)\t0.0271739045428\n",
      "  (0, 5862)\t0.0282663661906\n",
      "  (0, 5728)\t0.0255547074125\n",
      "  (0, 3219)\t0.0077067191502\n",
      "  (0, 5)\t0.0354690430429\n",
      "  (0, 2)\t0.0370749743713\n"
     ]
    }
   ],
   "source": [
    "from sklearn.feature_extraction.text import TfidfTransformer\n",
    "\n",
    "tfidf_transformer = TfidfTransformer().fit(messages_bow)\n",
    "tfidf4 = tfidf_transformer.transform(bow4)\n",
    "print(tfidf4)"
   ]
  },
  {
   "cell_type": "code",
   "execution_count": 100,
   "metadata": {
    "collapsed": false
   },
   "outputs": [
    {
     "name": "stdout",
     "output_type": "stream",
     "text": [
      "8.24387030896\n",
      "6.45211083973\n"
     ]
    }
   ],
   "source": [
    "print(tfidf_transformer.idf_[bow_transformer.vocabulary_['012931073233e92a1fb8808e384cbc0d60e58']])\n",
    "print(tfidf_transformer.idf_[bow_transformer.vocabulary_['workers']])"
   ]
  },
  {
   "cell_type": "code",
   "execution_count": 101,
   "metadata": {
    "collapsed": false
   },
   "outputs": [
    {
     "name": "stdout",
     "output_type": "stream",
     "text": [
      "(2798, 143098)\n"
     ]
    }
   ],
   "source": [
    "messages_tfidf = tfidf_transformer.transform(messages_bow)\n",
    "print(messages_tfidf.shape)"
   ]
  },
  {
   "cell_type": "markdown",
   "metadata": {},
   "source": [
    "# Train-Test Split"
   ]
  },
  {
   "cell_type": "code",
   "execution_count": 114,
   "metadata": {
    "collapsed": false
   },
   "outputs": [
    {
     "name": "stdout",
     "output_type": "stream",
     "text": [
      "2238 560 2798\n"
     ]
    }
   ],
   "source": [
    "from sklearn.model_selection import train_test_split\n",
    "\n",
    "msg_train, msg_test, label_train, label_test = train_test_split(df['message'], \n",
    "                                                                df['label'], \n",
    "                                                                test_size=0.2)\n",
    "\n",
    "print(len(msg_train), len(msg_test), len(msg_train) + len(msg_test))"
   ]
  },
  {
   "cell_type": "markdown",
   "metadata": {},
   "source": [
    "# Create a Pipeline"
   ]
  },
  {
   "cell_type": "code",
   "execution_count": 115,
   "metadata": {
    "collapsed": true
   },
   "outputs": [],
   "source": [
    "from sklearn.pipeline import Pipeline\n",
    "from sklearn.naive_bayes import MultinomialNB\n",
    "\n",
    "pipeline = Pipeline([\n",
    "    ('bow', CountVectorizer(analyzer=text_process)),  # strings to token integer counts\n",
    "    ('tfidf', TfidfTransformer()),  # integer counts to weighted TF-IDF scores\n",
    "    ('classifier', MultinomialNB()),  # train on TF-IDF vectors w/ Naive Bayes classifier\n",
    "])"
   ]
  },
  {
   "cell_type": "markdown",
   "metadata": {},
   "source": [
    "# Train and evaluate the model using the Pipeline"
   ]
  },
  {
   "cell_type": "code",
   "execution_count": 116,
   "metadata": {
    "collapsed": false
   },
   "outputs": [
    {
     "data": {
      "text/plain": [
       "Pipeline(memory=None,\n",
       "     steps=[('bow', CountVectorizer(analyzer=<function text_process at 0x10dc4f0d0>, binary=False,\n",
       "        decode_error='strict', dtype=<class 'numpy.int64'>,\n",
       "        encoding='utf-8', input='content', lowercase=True, max_df=1.0,\n",
       "        max_features=None, min_df=1, ngram_range=(1, 1), preprocessor=None,...f=False, use_idf=True)), ('classifier', MultinomialNB(alpha=1.0, class_prior=None, fit_prior=True))])"
      ]
     },
     "execution_count": 116,
     "metadata": {},
     "output_type": "execute_result"
    }
   ],
   "source": [
    "pipeline.fit(msg_train,label_train)"
   ]
  },
  {
   "cell_type": "code",
   "execution_count": 117,
   "metadata": {
    "collapsed": true
   },
   "outputs": [],
   "source": [
    "predictions = pipeline.predict(msg_test)"
   ]
  },
  {
   "cell_type": "code",
   "execution_count": 118,
   "metadata": {
    "collapsed": false
   },
   "outputs": [
    {
     "name": "stdout",
     "output_type": "stream",
     "text": [
      "             precision    recall  f1-score   support\n",
      "\n",
      "        ham       1.00      0.91      0.95       325\n",
      "       spam       0.89      1.00      0.94       235\n",
      "\n",
      "avg / total       0.95      0.95      0.95       560\n",
      "\n"
     ]
    }
   ],
   "source": [
    "from sklearn.metrics import classification_report\n",
    "\n",
    "print(classification_report(predictions,label_test))"
   ]
  },
  {
   "cell_type": "code",
   "execution_count": null,
   "metadata": {
    "collapsed": true
   },
   "outputs": [],
   "source": []
  }
 ],
 "metadata": {
  "kernelspec": {
   "display_name": "Python 3",
   "language": "python",
   "name": "python3"
  },
  "language_info": {
   "codemirror_mode": {
    "name": "ipython",
    "version": 3
   },
   "file_extension": ".py",
   "mimetype": "text/x-python",
   "name": "python",
   "nbconvert_exporter": "python",
   "pygments_lexer": "ipython3",
   "version": "3.6.0"
  }
 },
 "nbformat": 4,
 "nbformat_minor": 2
}
