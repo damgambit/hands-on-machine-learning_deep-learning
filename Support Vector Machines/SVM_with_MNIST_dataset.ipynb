{
 "cells": [
  {
   "cell_type": "markdown",
   "metadata": {},
   "source": [
    "# What to do\n",
    "Train an SVM classifier on the MNIST dataset. Since SVM classifiers are binary classifiers, you will need to use one-versus-all to classify all 10 digits. You may want to tune the hyperparameters using small validation sets to speed up the process. What accuracy can you reach?\n",
    "\n",
    "## Load the MNIST dataset"
   ]
  },
  {
   "cell_type": "code",
   "execution_count": 1,
   "metadata": {
    "collapsed": false
   },
   "outputs": [],
   "source": [
    "import numpy as np\n",
    "from sklearn.datasets import fetch_mldata\n",
    "\n",
    "mnist = fetch_mldata(\"MNIST original\")\n",
    "X = mnist[\"data\"]\n",
    "y = mnist[\"target\"]\n",
    "\n",
    "#train test split\n",
    "X_train = X[:60000]\n",
    "y_train = y[:60000]\n",
    "X_test = X[60000:]\n",
    "y_test = y[60000:]\n",
    "\n",
    "# shuffle the train and test sets*\n",
    "np.random.seed(42)\n",
    "rnd_idx = np.random.permutation(60000)\n",
    "X_train = X_train[rnd_idx]\n",
    "y_train = y_train[rnd_idx]"
   ]
  },
  {
   "cell_type": "markdown",
   "metadata": {},
   "source": [
    "## Scale the dataset"
   ]
  },
  {
   "cell_type": "code",
   "execution_count": 4,
   "metadata": {
    "collapsed": true
   },
   "outputs": [],
   "source": [
    "from sklearn.preprocessing import StandardScaler\n",
    "\n",
    "scaler = StandardScaler()\n",
    "X_train_scaled = scaler.fit_transform(X_train.astype(np.float32))\n",
    "X_test_scaled = scaler.transform(X_test.astype(np.float32))"
   ]
  },
  {
   "cell_type": "markdown",
   "metadata": {},
   "source": [
    "## Train the model and print its accuracy"
   ]
  },
  {
   "cell_type": "code",
   "execution_count": 5,
   "metadata": {
    "collapsed": false
   },
   "outputs": [
    {
     "name": "stdout",
     "output_type": "stream",
     "text": [
      "Accuracy on training set:  0.843866666667\n"
     ]
    }
   ],
   "source": [
    "from sklearn.svm import LinearSVC\n",
    "from sklearn.metrics import accuracy_score\n",
    "\n",
    "lin_clf = LinearSVC(C = 1, random_state = 42)\n",
    "\n",
    "lin_clf.fit(X_train, y_train)\n",
    "\n",
    "\n",
    "predictions = lin_clf.predict(X_train)\n",
    "\n",
    "print('Accuracy on training set: ',accuracy_score(y_train, predictions))"
   ]
  },
  {
   "cell_type": "markdown",
   "metadata": {
    "collapsed": true
   },
   "source": [
    "# Using a kernel"
   ]
  },
  {
   "cell_type": "code",
   "execution_count": 8,
   "metadata": {
    "collapsed": false
   },
   "outputs": [
    {
     "data": {
      "text/plain": [
       "0.94615000000000005"
      ]
     },
     "execution_count": 8,
     "metadata": {},
     "output_type": "execute_result"
    }
   ],
   "source": [
    "from sklearn.svm import SVC\n",
    "\n",
    "svm_clf = SVC(decision_function_shape=\"ovr\")\n",
    "svm_clf.fit(X_train_scaled[:10000], y_train[:10000])\n",
    "\n",
    "y_pred = svm_clf.predict(X_train_scaled)\n",
    "accuracy_score(y_train, y_pred)"
   ]
  },
  {
   "cell_type": "markdown",
   "metadata": {},
   "source": [
    "# grid search to find the best hyperparameters"
   ]
  },
  {
   "cell_type": "code",
   "execution_count": 9,
   "metadata": {
    "collapsed": false
   },
   "outputs": [
    {
     "name": "stdout",
     "output_type": "stream",
     "text": [
      "Fitting 3 folds for each of 10 candidates, totalling 30 fits\n",
      "[CV] C=8.85231605842, gamma=0.00176607465048 .........................\n",
      "[CV] .......... C=8.85231605842, gamma=0.00176607465048, total=   0.9s\n",
      "[CV] C=8.85231605842, gamma=0.00176607465048 .........................\n"
     ]
    },
    {
     "name": "stderr",
     "output_type": "stream",
     "text": [
      "[Parallel(n_jobs=1)]: Done   1 out of   1 | elapsed:    1.3s remaining:    0.0s\n"
     ]
    },
    {
     "name": "stdout",
     "output_type": "stream",
     "text": [
      "[CV] .......... C=8.85231605842, gamma=0.00176607465048, total=   0.9s\n",
      "[CV] C=8.85231605842, gamma=0.00176607465048 .........................\n",
      "[CV] .......... C=8.85231605842, gamma=0.00176607465048, total=   1.0s\n",
      "[CV] C=1.82719601047, gamma=0.00636473705545 .........................\n",
      "[CV] .......... C=1.82719601047, gamma=0.00636473705545, total=   1.0s\n",
      "[CV] C=1.82719601047, gamma=0.00636473705545 .........................\n",
      "[CV] .......... C=1.82719601047, gamma=0.00636473705545, total=   1.1s\n",
      "[CV] C=1.82719601047, gamma=0.00636473705545 .........................\n",
      "[CV] .......... C=1.82719601047, gamma=0.00636473705545, total=   1.1s\n",
      "[CV] C=9.87519919377, gamma=0.0513498334519 ..........................\n",
      "[CV] ........... C=9.87519919377, gamma=0.0513498334519, total=   1.1s\n",
      "[CV] C=9.87519919377, gamma=0.0513498334519 ..........................\n",
      "[CV] ........... C=9.87519919377, gamma=0.0513498334519, total=   1.1s\n",
      "[CV] C=9.87519919377, gamma=0.0513498334519 ..........................\n",
      "[CV] ........... C=9.87519919377, gamma=0.0513498334519, total=   1.3s\n",
      "[CV] C=6.59992909281, gamma=0.0599166657847 ..........................\n",
      "[CV] ........... C=6.59992909281, gamma=0.0599166657847, total=   1.1s\n",
      "[CV] C=6.59992909281, gamma=0.0599166657847 ..........................\n",
      "[CV] ........... C=6.59992909281, gamma=0.0599166657847, total=   1.1s\n",
      "[CV] C=6.59992909281, gamma=0.0599166657847 ..........................\n",
      "[CV] ........... C=6.59992909281, gamma=0.0599166657847, total=   1.1s\n",
      "[CV] C=9.05343597549, gamma=0.00359649052253 .........................\n",
      "[CV] .......... C=9.05343597549, gamma=0.00359649052253, total=   1.0s\n",
      "[CV] C=9.05343597549, gamma=0.00359649052253 .........................\n",
      "[CV] .......... C=9.05343597549, gamma=0.00359649052253, total=   1.1s\n",
      "[CV] C=9.05343597549, gamma=0.00359649052253 .........................\n",
      "[CV] .......... C=9.05343597549, gamma=0.00359649052253, total=   1.0s\n",
      "[CV] C=2.70106280446, gamma=0.00400233099291 .........................\n",
      "[CV] .......... C=2.70106280446, gamma=0.00400233099291, total=   1.1s\n",
      "[CV] C=2.70106280446, gamma=0.00400233099291 .........................\n",
      "[CV] .......... C=2.70106280446, gamma=0.00400233099291, total=   1.0s\n",
      "[CV] C=2.70106280446, gamma=0.00400233099291 .........................\n",
      "[CV] .......... C=2.70106280446, gamma=0.00400233099291, total=   1.1s\n",
      "[CV] C=3.27117878439, gamma=0.0175969575075 ..........................\n",
      "[CV] ........... C=3.27117878439, gamma=0.0175969575075, total=   1.1s\n",
      "[CV] C=3.27117878439, gamma=0.0175969575075 ..........................\n",
      "[CV] ........... C=3.27117878439, gamma=0.0175969575075, total=   1.2s\n",
      "[CV] C=3.27117878439, gamma=0.0175969575075 ..........................\n",
      "[CV] ........... C=3.27117878439, gamma=0.0175969575075, total=   1.2s\n",
      "[CV] C=6.84899112775, gamma=0.0157352905643 ..........................\n",
      "[CV] ........... C=6.84899112775, gamma=0.0157352905643, total=   1.2s\n",
      "[CV] C=6.84899112775, gamma=0.0157352905643 ..........................\n",
      "[CV] ........... C=6.84899112775, gamma=0.0157352905643, total=   1.3s\n",
      "[CV] C=6.84899112775, gamma=0.0157352905643 ..........................\n",
      "[CV] ........... C=6.84899112775, gamma=0.0157352905643, total=   1.1s\n",
      "[CV] C=2.89303536491, gamma=0.0383464752611 ..........................\n",
      "[CV] ........... C=2.89303536491, gamma=0.0383464752611, total=   1.2s\n",
      "[CV] C=2.89303536491, gamma=0.0383464752611 ..........................\n",
      "[CV] ........... C=2.89303536491, gamma=0.0383464752611, total=   1.2s\n",
      "[CV] C=2.89303536491, gamma=0.0383464752611 ..........................\n",
      "[CV] ........... C=2.89303536491, gamma=0.0383464752611, total=   1.1s\n",
      "[CV] C=5.33626083543, gamma=0.0088085381726 ..........................\n",
      "[CV] ........... C=5.33626083543, gamma=0.0088085381726, total=   1.1s\n",
      "[CV] C=5.33626083543, gamma=0.0088085381726 ..........................\n",
      "[CV] ........... C=5.33626083543, gamma=0.0088085381726, total=   1.1s\n",
      "[CV] C=5.33626083543, gamma=0.0088085381726 ..........................\n",
      "[CV] ........... C=5.33626083543, gamma=0.0088085381726, total=   1.1s\n"
     ]
    },
    {
     "name": "stderr",
     "output_type": "stream",
     "text": [
      "[Parallel(n_jobs=1)]: Done  30 out of  30 | elapsed:   47.1s finished\n"
     ]
    },
    {
     "data": {
      "text/plain": [
       "RandomizedSearchCV(cv=None, error_score='raise',\n",
       "          estimator=SVC(C=1.0, cache_size=200, class_weight=None, coef0=0.0,\n",
       "  decision_function_shape='ovr', degree=3, gamma='auto', kernel='rbf',\n",
       "  max_iter=-1, probability=False, random_state=None, shrinking=True,\n",
       "  tol=0.001, verbose=False),\n",
       "          fit_params=None, iid=True, n_iter=10, n_jobs=1,\n",
       "          param_distributions={'gamma': <scipy.stats._distn_infrastructure.rv_frozen object at 0x1073cca58>, 'C': <scipy.stats._distn_infrastructure.rv_frozen object at 0x1073ccfd0>},\n",
       "          pre_dispatch='2*n_jobs', random_state=None, refit=True,\n",
       "          return_train_score=True, scoring=None, verbose=2)"
      ]
     },
     "execution_count": 9,
     "metadata": {},
     "output_type": "execute_result"
    }
   ],
   "source": [
    "from sklearn.model_selection import RandomizedSearchCV\n",
    "from scipy.stats import reciprocal, uniform\n",
    "\n",
    "param_distributions = {\"gamma\": reciprocal(0.001, 0.1), \"C\": uniform(1, 10)}\n",
    "rnd_search_cv = RandomizedSearchCV(svm_clf, param_distributions, n_iter=10, verbose=2)\n",
    "rnd_search_cv.fit(X_train_scaled[:1000], y_train[:1000])"
   ]
  },
  {
   "cell_type": "code",
   "execution_count": 10,
   "metadata": {
    "collapsed": false
   },
   "outputs": [
    {
     "data": {
      "text/plain": [
       "SVC(C=8.8523160584230869, cache_size=200, class_weight=None, coef0=0.0,\n",
       "  decision_function_shape='ovr', degree=3, gamma=0.001766074650481071,\n",
       "  kernel='rbf', max_iter=-1, probability=False, random_state=None,\n",
       "  shrinking=True, tol=0.001, verbose=False)"
      ]
     },
     "execution_count": 10,
     "metadata": {},
     "output_type": "execute_result"
    }
   ],
   "source": [
    "rnd_search_cv.best_estimator_"
   ]
  },
  {
   "cell_type": "code",
   "execution_count": 11,
   "metadata": {
    "collapsed": false
   },
   "outputs": [
    {
     "data": {
      "text/plain": [
       "0.85599999999999998"
      ]
     },
     "execution_count": 11,
     "metadata": {},
     "output_type": "execute_result"
    }
   ],
   "source": [
    "rnd_search_cv.best_score_"
   ]
  },
  {
   "cell_type": "markdown",
   "metadata": {},
   "source": [
    "# Final model"
   ]
  },
  {
   "cell_type": "code",
   "execution_count": null,
   "metadata": {
    "collapsed": false
   },
   "outputs": [
    {
     "data": {
      "text/plain": [
       "SVC(C=8.8523160584230869, cache_size=200, class_weight=None, coef0=0.0,\n",
       "  decision_function_shape='ovr', degree=3, gamma=0.001766074650481071,\n",
       "  kernel='rbf', max_iter=-1, probability=False, random_state=None,\n",
       "  shrinking=True, tol=0.001, verbose=False)"
      ]
     },
     "execution_count": 12,
     "metadata": {},
     "output_type": "execute_result"
    }
   ],
   "source": [
    "rnd_search_cv.best_estimator_.fit(X_train_scaled, y_train)"
   ]
  },
  {
   "cell_type": "code",
   "execution_count": null,
   "metadata": {
    "collapsed": true
   },
   "outputs": [],
   "source": [
    "y_pred = rnd_search_cv.best_estimator_.predict(X_train_scaled)\n",
    "accuracy_score(y_train, y_pred)"
   ]
  },
  {
   "cell_type": "code",
   "execution_count": null,
   "metadata": {
    "collapsed": true
   },
   "outputs": [],
   "source": [
    "y_pred = rnd_search_cv.best_estimator_.predict(X_test_scaled)\n",
    "accuracy_score(y_test, y_pred)"
   ]
  },
  {
   "cell_type": "code",
   "execution_count": null,
   "metadata": {
    "collapsed": true
   },
   "outputs": [],
   "source": []
  }
 ],
 "metadata": {
  "kernelspec": {
   "display_name": "Python 3",
   "language": "python",
   "name": "python3"
  },
  "language_info": {
   "codemirror_mode": {
    "name": "ipython",
    "version": 3
   },
   "file_extension": ".py",
   "mimetype": "text/x-python",
   "name": "python",
   "nbconvert_exporter": "python",
   "pygments_lexer": "ipython3",
   "version": "3.6.0"
  }
 },
 "nbformat": 4,
 "nbformat_minor": 2
}
