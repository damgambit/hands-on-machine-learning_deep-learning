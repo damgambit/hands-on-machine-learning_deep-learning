{
 "cells": [
  {
   "cell_type": "markdown",
   "metadata": {},
   "source": [
    "# Batch Normalization\n",
    "$ \\begin{split} 1.\\quad & \\mathbf{\\mu}_B = \\dfrac{1}{m_B}\\sum\\limits_{i=1}^{m_B}{\\mathbf{x}^{(i)}}\\\\ 2.\\quad & {\\mathbf{\\sigma}_B}^2 = \\dfrac{1}{m_B}\\sum\\limits_{i=1}^{m_B}{(\\mathbf{x}^{(i)} - \\mathbf{\\mu}_B)^2}\\\\ 3.\\quad & \\hat{\\mathbf{x}}^{(i)} = \\dfrac{\\mathbf{x}^{(i)} - \\mathbf{\\mu}_B}{\\sqrt{{\\mathbf{\\sigma}_B}^2 + \\epsilon}}\\\\ 4.\\quad & \\mathbf{z}^{(i)} = \\gamma \\hat{\\mathbf{x}}^{(i)} + \\beta \\end{split} $"
   ]
  },
  {
   "cell_type": "code",
   "execution_count": 7,
   "metadata": {
    "collapsed": false
   },
   "outputs": [],
   "source": [
    "import tensorflow as tf\n",
    "tf.reset_default_graph()\n",
    "\n",
    "# Neural Network dimensions\n",
    "n_inputs = 28*28 # mnist dataset\n",
    "n_hidden1 = 300\n",
    "n_hidden2 = 100\n",
    "n_outputs = 10\n",
    "\n",
    "X = tf.placeholder(tf.float32, shape = (None, n_inputs), name = 'X')\n",
    "\n",
    "#training placeholder: True during training, False otherwise \n",
    "#(to use current mini-batch's mean and standar deviation or the whole training set's mean and standard deviation)\n",
    "training = tf.placeholder_with_default(False, shape=(), name='training')\n",
    "\n",
    "\n",
    "from functools import partial\n",
    "#we will use this function to apply the batch normalization to every layer \n",
    "#before the activation function\n",
    "my_batch_norm = partial(tf.layers.batch_normalization, training = training, momentum = 0.9)\n",
    "\n",
    "\n",
    "# Hidden Layer 1\n",
    "hidden1 = tf.layers.dense(X, n_hidden1, name = 'hidden1') # no activation function, we'll apply it after the BN\n",
    "bn1 = my_batch_norm(hidden1)\n",
    "bn1_act = tf.nn.elu(bn1) # we are use ELU activation function instead of the RELU\n",
    "\n",
    "# Hidden Layer 2\n",
    "hidden2 = tf.layers.dense(bn1_act, n_hidden2, name = 'hidden2')\n",
    "bn2 = my_batch_norm(hidden2)\n",
    "bn2_act = tf.nn.elu(bn2)\n",
    "\n",
    "# Logits (output layer)\n",
    "logits_pre_bn = tf.layers.dense(bn2, n_outputs, name = 'outputs')\n",
    "logits = my_batch_norm(logits_pre_bn)"
   ]
  },
  {
   "cell_type": "code",
   "execution_count": 11,
   "metadata": {
    "collapsed": false
   },
   "outputs": [],
   "source": [
    "import tensorflow as tf\n",
    "from functools import partial\n",
    "\n",
    "tf.reset_default_graph()\n",
    "\n",
    "# Neural Network dimensions\n",
    "n_inputs = 28*28 # mnist dataset\n",
    "n_hidden1 = 300\n",
    "n_hidden2 = 100\n",
    "n_outputs = 10\n",
    "\n",
    "learning_rate = 0.1\n",
    "\n",
    "# training data\n",
    "X = tf.placeholder(tf.float32, shape = (None, n_inputs), name = 'X')\n",
    "y = tf.placeholder(tf.int64, shape = (None), name = 'y')\n",
    "\n",
    "#training placeholder: True during training, False otherwise \n",
    "#(to use current mini-batch's mean and standar deviation or the whole training set's mean and standard deviation)\n",
    "training = tf.placeholder_with_default(False, shape=(), name='training')\n",
    "\n",
    "\n",
    "with tf.name_scope('DNN'):\n",
    "    #HE initialization function\n",
    "    he_init = tf.contrib.layers.variance_scaling_initializer()\n",
    "    \n",
    "    #we will use this function to apply the batch normalization to every layer \n",
    "    #before the activation function\n",
    "    my_batch_norm = partial(tf.layers.batch_normalization, training = training, momentum = 0.9)\n",
    "    \n",
    "    #dense layer with he init function\n",
    "    my_dense_layer = partial(tf.layers.dense, kernel_initializer = he_init)\n",
    "    \n",
    "    \n",
    "    # Hidden Layer 1\n",
    "    hidden1 = my_dense_layer(X, n_hidden1, name = 'hidden1')\n",
    "    bn1 = my_batch_norm(hidden1)\n",
    "    bn1_act = tf.nn.elu(bn1)\n",
    "\n",
    "    # Hidden Layer 1\n",
    "    hidden2 = my_dense_layer(bn1_act, n_hidden2, name = 'hidden2')\n",
    "    bn2 = my_batch_norm(hidden2)\n",
    "    bn2_act = tf.nn.elu(bn2)\n",
    "    \n",
    "    # Logits (output layer)\n",
    "    logits_pre_bn = my_dense_layer(bn2_act, n_outputs, name = 'outputs')\n",
    "    logits = my_batch_norm(logits_pre_bn)\n",
    "\n",
    "\n",
    "with tf.name_scope('loss'):\n",
    "    xentropy = tf.nn.sparse_softmax_cross_entropy_with_logits(labels = y, logits = logits)\n",
    "    loss = tf.reduce_mean(xentropy, name = 'mse')\n",
    "    \n",
    "\n",
    "with tf.name_scope('train'):\n",
    "    optimizer = tf.train.GradientDescentOptimizer(learning_rate)\n",
    "    training_op = optimizer.minimize(loss)\n",
    "    \n",
    "\n",
    "with tf.name_scope('eval'):\n",
    "    correct = tf.nn.in_top_k(logits, y, 1)\n",
    "    accuracy = tf.reduce_mean(tf.cast(correct, tf.float32))\n",
    "    \n",
    "    \n",
    "init = tf.global_variables_initializer()\n",
    "saver = tf.train.Saver()"
   ]
  },
  {
   "cell_type": "code",
   "execution_count": 12,
   "metadata": {
    "collapsed": true
   },
   "outputs": [],
   "source": [
    "n_epochs = 20\n",
    "batch_size = 200"
   ]
  },
  {
   "cell_type": "code",
   "execution_count": null,
   "metadata": {
    "collapsed": true
   },
   "outputs": [],
   "source": [
    "from tensorflow.examples.tutorials.mnist import input_data\n",
    "mnist = input_data.read_data_sets(\"/tmp/data/\")"
   ]
  },
  {
   "cell_type": "code",
   "execution_count": 21,
   "metadata": {
    "collapsed": false
   },
   "outputs": [
    {
     "name": "stdout",
     "output_type": "stream",
     "text": [
      "0 Batch accuracy: 0.96 Validation accuracy: 0.9448\n",
      "1 Batch accuracy: 1.0 Validation accuracy: 0.9612\n",
      "2 Batch accuracy: 1.0 Validation accuracy: 0.9676\n",
      "3 Batch accuracy: 1.0 Validation accuracy: 0.9736\n",
      "4 Batch accuracy: 0.995 Validation accuracy: 0.9728\n",
      "5 Batch accuracy: 0.99 Validation accuracy: 0.9748\n",
      "6 Batch accuracy: 1.0 Validation accuracy: 0.9752\n",
      "7 Batch accuracy: 1.0 Validation accuracy: 0.9758\n",
      "8 Batch accuracy: 1.0 Validation accuracy: 0.9768\n",
      "9 Batch accuracy: 1.0 Validation accuracy: 0.9754\n",
      "10 Batch accuracy: 1.0 Validation accuracy: 0.9768\n",
      "11 Batch accuracy: 1.0 Validation accuracy: 0.9786\n",
      "12 Batch accuracy: 1.0 Validation accuracy: 0.9784\n",
      "13 Batch accuracy: 1.0 Validation accuracy: 0.9776\n",
      "14 Batch accuracy: 0.995 Validation accuracy: 0.9798\n",
      "15 Batch accuracy: 1.0 Validation accuracy: 0.9796\n",
      "16 Batch accuracy: 1.0 Validation accuracy: 0.9776\n",
      "17 Batch accuracy: 1.0 Validation accuracy: 0.9812\n",
      "18 Batch accuracy: 1.0 Validation accuracy: 0.9786\n",
      "19 Batch accuracy: 1.0 Validation accuracy: 0.9804\n",
      "\n",
      "Test accuracy: 0.9797\n"
     ]
    }
   ],
   "source": [
    "extra_update_ops = tf.get_collection(tf.GraphKeys.UPDATE_OPS)\n",
    "\n",
    "with tf.Session() as sess:\n",
    "    init.run()\n",
    "    for epoch in range(n_epochs):\n",
    "        for iteration in range(mnist.train.num_examples // batch_size):\n",
    "            X_batch, y_batch = mnist.train.next_batch(batch_size)\n",
    "            sess.run([training_op, extra_update_ops],\n",
    "                    feed_dict={training: True, X: X_batch, y: y_batch})\n",
    "        acc_train = accuracy.eval(feed_dict={X: X_batch, y: y_batch})\n",
    "        acc_valid = accuracy.eval(feed_dict={X: mnist.validation.images, y: mnist.validation.labels})\n",
    "        print(epoch, \"Batch accuracy:\", acc_train, \"Validation accuracy:\", acc_valid)\n",
    "    acc_test = accuracy.eval(feed_dict={X: mnist.test.images, y: mnist.test.labels})\n",
    "    print(\"\\nTest accuracy:\", acc_test)\n",
    "    save_path = saver.save(sess, './my_model_final.ckpt')"
   ]
  },
  {
   "cell_type": "code",
   "execution_count": 22,
   "metadata": {
    "collapsed": false
   },
   "outputs": [
    {
     "data": {
      "text/plain": [
       "['hidden1/kernel:0',\n",
       " 'hidden1/bias:0',\n",
       " 'batch_normalization/beta:0',\n",
       " 'batch_normalization/gamma:0',\n",
       " 'hidden2/kernel:0',\n",
       " 'hidden2/bias:0',\n",
       " 'batch_normalization_1/beta:0',\n",
       " 'batch_normalization_1/gamma:0',\n",
       " 'outputs/kernel:0',\n",
       " 'outputs/bias:0',\n",
       " 'batch_normalization_2/beta:0',\n",
       " 'batch_normalization_2/gamma:0']"
      ]
     },
     "execution_count": 22,
     "metadata": {},
     "output_type": "execute_result"
    }
   ],
   "source": [
    "[v.name for v in tf.trainable_variables()]"
   ]
  },
  {
   "cell_type": "code",
   "execution_count": null,
   "metadata": {
    "collapsed": true
   },
   "outputs": [],
   "source": []
  }
 ],
 "metadata": {
  "kernelspec": {
   "display_name": "Python 3",
   "language": "python",
   "name": "python3"
  },
  "language_info": {
   "codemirror_mode": {
    "name": "ipython",
    "version": 3
   },
   "file_extension": ".py",
   "mimetype": "text/x-python",
   "name": "python",
   "nbconvert_exporter": "python",
   "pygments_lexer": "ipython3",
   "version": "3.6.0"
  }
 },
 "nbformat": 4,
 "nbformat_minor": 2
}
