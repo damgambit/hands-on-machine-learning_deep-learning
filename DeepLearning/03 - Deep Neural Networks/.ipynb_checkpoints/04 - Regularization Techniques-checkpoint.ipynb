{
 "cells": [
  {
   "cell_type": "markdown",
   "metadata": {},
   "source": [
    "# Regularization Techniques"
   ]
  },
  {
   "cell_type": "code",
   "execution_count": 4,
   "metadata": {
    "collapsed": false
   },
   "outputs": [
    {
     "name": "stdout",
     "output_type": "stream",
     "text": [
      "Extracting /tmp/data/train-images-idx3-ubyte.gz\n",
      "Extracting /tmp/data/train-labels-idx1-ubyte.gz\n",
      "Extracting /tmp/data/t10k-images-idx3-ubyte.gz\n",
      "Extracting /tmp/data/t10k-labels-idx1-ubyte.gz\n"
     ]
    }
   ],
   "source": [
    "import numpy as np\n",
    "import tensorflow as tf\n",
    "from functools import partial\n",
    "from tensorflow.examples.tutorials.mnist import input_data\n",
    "\n",
    "mnist = input_data.read_data_sets('/tmp/data')"
   ]
  },
  {
   "cell_type": "markdown",
   "metadata": {
    "collapsed": true
   },
   "source": [
    "## L1 & L2 Regularization Implementation"
   ]
  },
  {
   "cell_type": "code",
   "execution_count": 7,
   "metadata": {
    "collapsed": false
   },
   "outputs": [],
   "source": [
    "tf.reset_default_graph()\n",
    "\n",
    "scale = 0.0001 # regularization scale\n",
    "\n",
    "n_inputs = 28*28\n",
    "n_hidden1 = 300\n",
    "n_hidden2 = 100\n",
    "n_outputs = 10\n",
    "\n",
    "my_dense_layer = partial(\n",
    "    tf.layers.dense, activation=tf.nn.relu,\n",
    "    kernel_regularizer=tf.contrib.layers.l1_regularizer(scale))\n",
    "\n",
    "X = tf.placeholder(tf.float32, shape = (None, n_inputs), name = 'X')\n",
    "y = tf.placeholder(tf.int64, shape = (None), name = 'y')\n",
    "\n",
    "with tf.name_scope('dnn'):\n",
    "    hidden1 = my_dense_layer(X, n_hidden1, name = 'hidden1')\n",
    "    hidden2 = my_dense_layer(hidden1, n_hidden2, name = 'hidden2')\n",
    "    logits = my_dense_layer(hidden2, n_outputs, activation=None, name = 'outputs')\n",
    "    \n",
    "\n",
    "    \n",
    "with tf.name_scope('loss'):\n",
    "    xentropy = tf.nn.sparse_softmax_cross_entropy_with_logits(labels = y, logits = logits)\n",
    "    base_loss = tf.reduce_mean(xentropy, name = 'avg_xentroy')\n",
    "    #get all the l1 losses from every layer\n",
    "    reg_losses = tf.get_collection(tf.GraphKeys.REGULARIZATION_LOSSES)\n",
    "    loss = tf.add_n([base_loss] + reg_losses, name = 'loss')\n",
    "    \n",
    "with tf.name_scope('eval'):\n",
    "    correct = tf.nn.in_top_k(logits, y, 1)\n",
    "    accuracy = tf.reduce_mean(tf.cast(correct, tf.float32))\n",
    "    \n",
    "    \n",
    "learning_rate = 0.1\n",
    "with tf.name_scope('train'):\n",
    "    optimizer = tf.train.MomentumOptimizer(learning_rate = learning_rate,\n",
    "                                          momentum = 0.9)\n",
    "    training_op = optimizer.minimize(loss)\n",
    "    \n",
    "init = tf.global_variables_initializer()\n",
    "saver = tf.train.Saver()"
   ]
  },
  {
   "cell_type": "code",
   "execution_count": 8,
   "metadata": {
    "collapsed": false
   },
   "outputs": [
    {
     "name": "stdout",
     "output_type": "stream",
     "text": [
      "0  - Validation accuracy: 0.975 Test accuracy 0.9543\n",
      "1  - Validation accuracy: 0.965 Test accuracy 0.9607\n",
      "2  - Validation accuracy: 0.975 Test accuracy 0.9697\n",
      "3  - Validation accuracy: 0.97 Test accuracy 0.9681\n",
      "4  - Validation accuracy: 0.99 Test accuracy 0.972\n",
      "5  - Validation accuracy: 0.955 Test accuracy 0.9743\n",
      "6  - Validation accuracy: 0.96 Test accuracy 0.9726\n",
      "7  - Validation accuracy: 0.965 Test accuracy 0.9618\n",
      "8  - Validation accuracy: 0.99 Test accuracy 0.9684\n",
      "9  - Validation accuracy: 0.985 Test accuracy 0.9736\n",
      "10  - Validation accuracy: 0.985 Test accuracy 0.9691\n",
      "11  - Validation accuracy: 0.985 Test accuracy 0.9759\n",
      "12  - Validation accuracy: 0.99 Test accuracy 0.9752\n",
      "13  - Validation accuracy: 0.99 Test accuracy 0.9742\n",
      "14  - Validation accuracy: 0.985 Test accuracy 0.9715\n",
      "15  - Validation accuracy: 0.98 Test accuracy 0.973\n",
      "16  - Validation accuracy: 1.0 Test accuracy 0.976\n",
      "17  - Validation accuracy: 0.99 Test accuracy 0.9693\n",
      "18  - Validation accuracy: 0.99 Test accuracy 0.9767\n",
      "19  - Validation accuracy: 0.985 Test accuracy 0.972\n"
     ]
    }
   ],
   "source": [
    "n_epochs = 20\n",
    "batch_size = 200\n",
    "\n",
    "with tf.Session() as sess:\n",
    "    init.run()\n",
    "    for epoch in range(n_epochs):\n",
    "        for iteration in range(mnist.train.num_examples // batch_size):\n",
    "            X_batch, y_batch = mnist.train.next_batch(batch_size)\n",
    "            sess.run(training_op, feed_dict = {X: X_batch, y: y_batch})\n",
    "        accuracy_val = accuracy.eval(feed_dict = {X: X_batch, y: y_batch})\n",
    "        accuracy_test = accuracy.eval(feed_dict = {X: mnist.test.images, y: mnist.test.labels})\n",
    "        \n",
    "        print(epoch,' - Validation accuracy:', accuracy_val, 'Test accuracy', accuracy_test)\n",
    "    \n",
    "    save_path = saver.save(sess, './my_final_model.cpkt')"
   ]
  },
  {
   "cell_type": "markdown",
   "metadata": {},
   "source": [
    "## Dropout"
   ]
  },
  {
   "cell_type": "code",
   "execution_count": 14,
   "metadata": {
    "collapsed": false
   },
   "outputs": [],
   "source": [
    "tf.reset_default_graph()\n",
    "\n",
    "scale = 0.0001 # regularization scale\n",
    "\n",
    "dropout_rate = 0.5\n",
    "\n",
    "n_inputs = 28*28\n",
    "n_hidden1 = 300\n",
    "n_hidden2 = 100\n",
    "n_outputs = 10\n",
    "\n",
    "my_dense_layer = partial(\n",
    "    tf.layers.dense, activation=tf.nn.relu,\n",
    "    kernel_regularizer=tf.contrib.layers.l1_regularizer(scale))\n",
    "\n",
    "X = tf.placeholder(tf.float32, shape = (None, n_inputs), name = 'X')\n",
    "y = tf.placeholder(tf.int64, shape = (None), name = 'y')\n",
    "training = tf.placeholder_with_default(False, shape = (), name = 'training')\n",
    "\n",
    "with tf.name_scope('dnn'):\n",
    "    hidden1 = my_dense_layer(X, n_hidden1, name = 'hidden1')\n",
    "    hidden1_drop = tf.layers.dropout(hidden1, dropout_rate, training = training)\n",
    "    hidden2 = my_dense_layer(hidden1_drop, n_hidden2, name = 'hidden2')\n",
    "    hidden2_drop = tf.layers.dropout(hidden2, dropout_rate, training = training)\n",
    "    logits = my_dense_layer(hidden2_drop, n_outputs, activation=None, name = 'outputs')\n",
    "    \n",
    "\n",
    "    \n",
    "with tf.name_scope('loss'):\n",
    "    xentropy = tf.nn.sparse_softmax_cross_entropy_with_logits(labels = y, logits = logits)\n",
    "    base_loss = tf.reduce_mean(xentropy, name = 'avg_xentroy')\n",
    "    #get all the l1 losses from every layer\n",
    "    reg_losses = tf.get_collection(tf.GraphKeys.REGULARIZATION_LOSSES)\n",
    "    loss = tf.add_n([base_loss] + reg_losses, name = 'loss')\n",
    "    \n",
    "with tf.name_scope('eval'):\n",
    "    correct = tf.nn.in_top_k(logits, y, 1)\n",
    "    accuracy = tf.reduce_mean(tf.cast(correct, tf.float32))\n",
    "    \n",
    "    \n",
    "learning_rate = 0.1\n",
    "with tf.name_scope('train'):\n",
    "    optimizer = tf.train.MomentumOptimizer(learning_rate = learning_rate,\n",
    "                                          momentum = 0.9)\n",
    "    training_op = optimizer.minimize(loss)\n",
    "    \n",
    "init = tf.global_variables_initializer()\n",
    "saver = tf.train.Saver()"
   ]
  },
  {
   "cell_type": "code",
   "execution_count": 15,
   "metadata": {
    "collapsed": false
   },
   "outputs": [
    {
     "name": "stdout",
     "output_type": "stream",
     "text": [
      "0  - Validation accuracy: 0.965 Test accuracy 0.9584\n",
      "1  - Validation accuracy: 0.955 Test accuracy 0.9642\n",
      "2  - Validation accuracy: 0.945 Test accuracy 0.967\n",
      "3  - Validation accuracy: 0.98 Test accuracy 0.9727\n",
      "4  - Validation accuracy: 0.985 Test accuracy 0.9678\n",
      "5  - Validation accuracy: 0.98 Test accuracy 0.9725\n",
      "6  - Validation accuracy: 0.99 Test accuracy 0.9708\n",
      "7  - Validation accuracy: 0.985 Test accuracy 0.9716\n",
      "8  - Validation accuracy: 0.985 Test accuracy 0.9738\n",
      "9  - Validation accuracy: 1.0 Test accuracy 0.9705\n",
      "10  - Validation accuracy: 0.97 Test accuracy 0.9754\n",
      "11  - Validation accuracy: 0.985 Test accuracy 0.9757\n",
      "12  - Validation accuracy: 0.995 Test accuracy 0.9763\n",
      "13  - Validation accuracy: 0.985 Test accuracy 0.9732\n",
      "14  - Validation accuracy: 0.99 Test accuracy 0.979\n",
      "15  - Validation accuracy: 1.0 Test accuracy 0.9718\n",
      "16  - Validation accuracy: 0.98 Test accuracy 0.9751\n",
      "17  - Validation accuracy: 0.975 Test accuracy 0.976\n",
      "18  - Validation accuracy: 0.99 Test accuracy 0.9746\n",
      "19  - Validation accuracy: 0.975 Test accuracy 0.9763\n"
     ]
    }
   ],
   "source": [
    "n_epochs = 20\n",
    "batch_size = 200\n",
    "\n",
    "with tf.Session() as sess:\n",
    "    init.run()\n",
    "    for epoch in range(n_epochs):\n",
    "        for iteration in range(mnist.train.num_examples // batch_size):\n",
    "            X_batch, y_batch = mnist.train.next_batch(batch_size)\n",
    "            sess.run(training_op, feed_dict = {X: X_batch, y: y_batch})\n",
    "        accuracy_val = accuracy.eval(feed_dict = {X: X_batch, y: y_batch})\n",
    "        accuracy_test = accuracy.eval(feed_dict = {X: mnist.test.images, y: mnist.test.labels})\n",
    "        \n",
    "        print(epoch,' - Validation accuracy:', accuracy_val, 'Test accuracy', accuracy_test)\n",
    "    \n",
    "    save_path = saver.save(sess, './my_final_model.cpkt')"
   ]
  },
  {
   "cell_type": "markdown",
   "metadata": {},
   "source": [
    "## Max-Norm Regularization"
   ]
  },
  {
   "cell_type": "code",
   "execution_count": null,
   "metadata": {
    "collapsed": true
   },
   "outputs": [],
   "source": []
  }
 ],
 "metadata": {
  "kernelspec": {
   "display_name": "Python 3",
   "language": "python",
   "name": "python3"
  },
  "language_info": {
   "codemirror_mode": {
    "name": "ipython",
    "version": 3
   },
   "file_extension": ".py",
   "mimetype": "text/x-python",
   "name": "python",
   "nbconvert_exporter": "python",
   "pygments_lexer": "ipython3",
   "version": "3.6.0"
  }
 },
 "nbformat": 4,
 "nbformat_minor": 2
}
